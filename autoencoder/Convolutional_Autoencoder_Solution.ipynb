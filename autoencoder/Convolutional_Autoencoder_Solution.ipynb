{
 "cells": [
  {
   "cell_type": "markdown",
   "metadata": {},
   "source": [
    "# Convolutional Autoencoder\n",
    "\n",
    "Sticking with the MNIST dataset, let's improve our autoencoder's performance using convolutional layers. Again, loading modules and the data."
   ]
  },
  {
   "cell_type": "code",
   "execution_count": 1,
   "metadata": {
    "collapsed": true
   },
   "outputs": [],
   "source": [
    "%matplotlib inline\n",
    "\n",
    "import numpy as np\n",
    "import tensorflow as tf\n",
    "import matplotlib.pyplot as plt"
   ]
  },
  {
   "cell_type": "code",
   "execution_count": 2,
   "metadata": {},
   "outputs": [
    {
     "name": "stdout",
     "output_type": "stream",
     "text": [
      "Extracting MNIST_data\\train-images-idx3-ubyte.gz\n",
      "Extracting MNIST_data\\train-labels-idx1-ubyte.gz\n",
      "Extracting MNIST_data\\t10k-images-idx3-ubyte.gz\n",
      "Extracting MNIST_data\\t10k-labels-idx1-ubyte.gz\n"
     ]
    }
   ],
   "source": [
    "from tensorflow.examples.tutorials.mnist import input_data\n",
    "mnist = input_data.read_data_sets('MNIST_data', validation_size=0)"
   ]
  },
  {
   "cell_type": "code",
   "execution_count": 3,
   "metadata": {},
   "outputs": [
    {
     "data": {
      "text/plain": [
       "<matplotlib.image.AxesImage at 0x164e5d63400>"
      ]
     },
     "execution_count": 3,
     "metadata": {},
     "output_type": "execute_result"
    },
    {
     "data": {
      "image/png": "[encoded data removed]",
      "text/plain": [
       "<matplotlib.figure.Figure at 0x164e5a89898>"
      ]
     },
     "metadata": {},
     "output_type": "display_data"
    }
   ],
   "source": [
    "img = mnist.train.images[2]\n",
    "plt.imshow(img.reshape((28, 28)), cmap='Greys_r')"
   ]
  },
  {
   "cell_type": "markdown",
   "metadata": {},
   "source": [
    "## Network Architecture\n",
    "\n",
    "The encoder part of the network will be a typical convolutional pyramid. Each convolutional layer will be followed by a max-pooling layer to reduce the dimensions of the layers. The decoder though might be something new to you. The decoder needs to convert from a narrow representation to a wide reconstructed image. For example, the representation could be a 4x4x8 max-pool layer. This is the output of the encoder, but also the input to the decoder. We want to get a 28x28x1 image out from the decoder so we need to work our way back up from the narrow decoder input layer. A schematic of the network is shown below.\n",
    "\n",
    "<img src='assets/convolutional_autoencoder.png' width=500px>\n",
    "\n",
    "Here our final encoder layer has size 4x4x8 = 128. The original images have size 28x28 = 784, so the encoded vector is roughly 16% the size of the original image. These are just suggested sizes for each of the layers. Feel free to change the depths and sizes, but remember our goal here is to find a small representation of the input data.\n",
    "\n",
    "### What's going on with the decoder\n",
    "\n",
    "Okay, so the decoder has these \"Upsample\" layers that you might not have seen before. First off, I'll discuss a bit what these layers *aren't*. Usually, you'll see **transposed convolution** layers used to increase the width and height of the layers. They work almost exactly the same as convolutional layers, but in reverse. A stride in the input layer results in a larger stride in the transposed convolution layer. For example, if you have a 3x3 kernel, a 3x3 patch in the input layer will be reduced to one unit in a convolutional layer. Comparatively, one unit in the input layer will be expanded to a 3x3 path in a transposed convolution layer. The TensorFlow API provides us with an easy way to create the layers, [`tf.nn.conv2d_transpose`](https://www.tensorflow.org/api_docs/python/tf/nn/conv2d_transpose). \n",
    "\n",
    "However, transposed convolution layers can lead to artifacts in the final images, such as checkerboard patterns. This is due to overlap in the kernels which can be avoided by setting the stride and kernel size equal. In [this Distill article](http://distill.pub/2016/deconv-checkerboard/) from Augustus Odena, *et al*, the authors show that these checkerboard artifacts can be avoided by resizing the layers using nearest neighbor or bilinear interpolation (upsampling) followed by a convolutional layer. In TensorFlow, this is easily done with [`tf.image.resize_images`](https://www.tensorflow.org/versions/r1.1/api_docs/python/tf/image/resize_images), followed by a convolution. Be sure to read the Distill article to get a better understanding of deconvolutional layers and why we're using upsampling.\n",
    "\n",
    "> **Exercise:** Build the network shown above. Remember that a convolutional layer with strides of 1 and 'same' padding won't reduce the height and width. That is, if the input is 28x28 and the convolution layer has stride = 1 and 'same' padding, the convolutional layer will also be 28x28. The max-pool layers are used the reduce the width and height. A stride of 2 will reduce the size by a factor of 2. Odena *et al* claim that nearest neighbor interpolation works best for the upsampling, so make sure to include that as a parameter in `tf.image.resize_images` or use [`tf.image.resize_nearest_neighbor`]( `https://www.tensorflow.org/api_docs/python/tf/image/resize_nearest_neighbor). For convolutional layers, use [`tf.layers.conv2d`](https://www.tensorflow.org/api_docs/python/tf/layers/conv2d). For example, you would write `conv1 = tf.layers.conv2d(inputs, 32, (5,5), padding='same', activation=tf.nn.relu)` for a layer with a depth of 32, a 5x5 kernel, stride of (1,1), padding is 'same', and a ReLU activation. Similarly, for the max-pool layers, use [`tf.layers.max_pooling2d`](https://www.tensorflow.org/api_docs/python/tf/layers/max_pooling2d)."
   ]
  },
  {
   "cell_type": "code",
   "execution_count": 4,
   "metadata": {},
   "outputs": [],
   "source": [
    "learning_rate = 0.001\n",
    "# Input and target placeholders\n",
    "inputs_ = tf.placeholder(tf.float32,[None,28,28,1])\n",
    "targets_ = tf.placeholder(tf.float32,[None,28,28,1])\n",
    "\n",
    "### Encoder\n",
    "conv1 = tf.layers.conv2d(inputs_, filters= 16, kernel_size=(5,5),strides=(1,1), padding='same', activation=tf.nn.relu)\n",
    "# Now 28x28x16\n",
    "maxpool1 = tf.layers.max_pooling2d(conv1, pool_size=(5,5),strides=(2,2),padding='same')\n",
    "# Now 14x14x16\n",
    "conv2 = tf.layers.conv2d(maxpool1, filters= 8, kernel_size=(3,3),strides=(1,1), padding='same', activation=tf.nn.relu)\n",
    "# Now 14x14x8\n",
    "maxpool2 = tf.layers.max_pooling2d(conv2, pool_size=(3,3),strides=(2,2),padding='same')\n",
    "# Now 7x7x8\n",
    "conv3 = tf.layers.conv2d(maxpool2, filters= 8, kernel_size=(2,2),strides=(1,1), padding='same', activation=tf.nn.relu)\n",
    "# Now 7x7x8\n",
    "encoded = tf.layers.max_pooling2d(conv3, pool_size=(2,2),strides=(2,2),padding='same')\n",
    "# Now 4x4x8\n",
    "\n",
    "### Decoder\n",
    "upsample1 = tf.image.resize_images(images=encoded, size=(7,7))\n",
    "# Now 7x7x8\n",
    "conv4 = tf.layers.conv2d(inputs=upsample1,filters=8,kernel_size=(2,2),strides=(1, 1),padding='same',activation=tf.nn.relu)\n",
    "# Now 7x7x8\n",
    "upsample2 = tf.image.resize_images(images=conv4, size=(14,14))\n",
    "# Now 14x14x8\n",
    "conv5 = tf.layers.conv2d(inputs=upsample2,filters=8,kernel_size=(3,3),strides=(1, 1),padding='same',activation=tf.nn.relu)\n",
    "# Now 14x14x8\n",
    "upsample3 = tf.image.resize_images(images=conv5, size=(28,28))\n",
    "# Now 28x28x8\n",
    "conv6 = tf.layers.conv2d(inputs=upsample3,filters=16,kernel_size=(5,5),strides=(1, 1),padding='same',activation=tf.nn.relu)\n",
    "# Now 28x28x16\n",
    "\n",
    "logits = tf.layers.conv2d(inputs=conv6,filters=1,kernel_size=(5,5),strides=(1, 1),padding='same',activation=None)\n",
    "#Now 28x28x1\n",
    "\n",
    "# Pass logits through sigmoid to get reconstructed image\n",
    "decoded = tf.nn.sigmoid(logits)\n",
    "\n",
    "# Pass logits through sigmoid and calculate the cross-entropy loss\n",
    "loss = tf.nn.sigmoid_cross_entropy_with_logits(labels=targets_, logits=logits)\n",
    "\n",
    "# Get cost and define the optimizer\n",
    "cost = tf.reduce_mean(loss)\n",
    "opt = tf.train.AdamOptimizer(learning_rate).minimize(cost)"
   ]
  },
  {
   "cell_type": "markdown",
   "metadata": {},
   "source": [
    "## Training\n",
    "\n",
    "As before, here we'll train the network. Instead of flattening the images though, we can pass them in as 28x28x1 arrays."
   ]
  },
  {
   "cell_type": "code",
   "execution_count": 5,
   "metadata": {
    "collapsed": true
   },
   "outputs": [],
   "source": [
    "sess = tf.Session()"
   ]
  },
  {
   "cell_type": "code",
   "execution_count": 6,
   "metadata": {
    "scrolled": true
   },
   "outputs": [
    {
     "name": "stdout",
     "output_type": "stream",
     "text": [
      "Epoch: 1/20 Iter 1... Training loss: 0.6947\n",
      "Epoch: 1/20 Iter 11... Training loss: 0.6044\n",
      "Epoch: 1/20 Iter 21... Training loss: 0.5132\n",
      "Epoch: 1/20 Iter 31... Training loss: 0.4386\n",
      "Epoch: 1/20 Iter 41... Training loss: 0.3892\n",
      "Epoch: 1/20 Iter 51... Training loss: 0.3457\n",
      "Epoch: 1/20 Iter 61... Training loss: 0.3027\n",
      "Epoch: 1/20 Iter 71... Training loss: 0.2755\n",
      "Epoch: 1/20 Iter 81... Training loss: 0.2621\n",
      "Epoch: 1/20 Iter 91... Training loss: 0.2568\n",
      "Epoch: 1/20 Iter 101... Training loss: 0.2508\n",
      "Epoch: 1/20 Iter 111... Training loss: 0.2360\n",
      "Epoch: 2/20 Iter 121... Training loss: 0.2286\n",
      "Epoch: 2/20 Iter 131... Training loss: 0.2250\n",
      "Epoch: 2/20 Iter 141... Training loss: 0.2161\n",
      "Epoch: 2/20 Iter 151... Training loss: 0.2109\n",
      "Epoch: 2/20 Iter 161... Training loss: 0.2109\n",
      "Epoch: 2/20 Iter 171... Training loss: 0.2011\n",
      "Epoch: 2/20 Iter 181... Training loss: 0.1985\n",
      "Epoch: 2/20 Iter 191... Training loss: 0.1937\n",
      "Epoch: 2/20 Iter 201... Training loss: 0.1963\n",
      "Epoch: 2/20 Iter 211... Training loss: 0.1850\n",
      "Epoch: 2/20 Iter 221... Training loss: 0.1858\n",
      "Epoch: 2/20 Iter 231... Training loss: 0.1899\n",
      "Epoch: 3/20 Iter 241... Training loss: 0.1871\n",
      "Epoch: 3/20 Iter 251... Training loss: 0.1852\n",
      "Epoch: 3/20 Iter 261... Training loss: 0.1817\n",
      "Epoch: 3/20 Iter 271... Training loss: 0.1775\n",
      "Epoch: 3/20 Iter 281... Training loss: 0.1771\n",
      "Epoch: 3/20 Iter 291... Training loss: 0.1733\n",
      "Epoch: 3/20 Iter 301... Training loss: 0.1778\n",
      "Epoch: 3/20 Iter 311... Training loss: 0.1759\n",
      "Epoch: 3/20 Iter 321... Training loss: 0.1794\n",
      "Epoch: 3/20 Iter 331... Training loss: 0.1743\n",
      "Epoch: 3/20 Iter 341... Training loss: 0.1710\n",
      "Epoch: 3/20 Iter 351... Training loss: 0.1729\n",
      "Epoch: 4/20 Iter 361... Training loss: 0.1654\n",
      "Epoch: 4/20 Iter 371... Training loss: 0.1702\n",
      "Epoch: 4/20 Iter 381... Training loss: 0.1711\n",
      "Epoch: 4/20 Iter 391... Training loss: 0.1711\n",
      "Epoch: 4/20 Iter 401... Training loss: 0.1678\n",
      "Epoch: 4/20 Iter 411... Training loss: 0.1678\n",
      "Epoch: 4/20 Iter 421... Training loss: 0.1669\n",
      "Epoch: 4/20 Iter 431... Training loss: 0.1616\n",
      "Epoch: 4/20 Iter 441... Training loss: 0.1613\n",
      "Epoch: 4/20 Iter 451... Training loss: 0.1621\n",
      "Epoch: 4/20 Iter 461... Training loss: 0.1649\n",
      "Epoch: 4/20 Iter 471... Training loss: 0.1640\n",
      "Epoch: 5/20 Iter 481... Training loss: 0.1600\n",
      "Epoch: 5/20 Iter 491... Training loss: 0.1589\n",
      "Epoch: 5/20 Iter 501... Training loss: 0.1572\n",
      "Epoch: 5/20 Iter 511... Training loss: 0.1562\n",
      "Epoch: 5/20 Iter 521... Training loss: 0.1590\n",
      "Epoch: 5/20 Iter 531... Training loss: 0.1606\n",
      "Epoch: 5/20 Iter 541... Training loss: 0.1572\n",
      "Epoch: 5/20 Iter 551... Training loss: 0.1577\n",
      "Epoch: 5/20 Iter 561... Training loss: 0.1597\n",
      "Epoch: 5/20 Iter 571... Training loss: 0.1587\n",
      "Epoch: 5/20 Iter 581... Training loss: 0.1582\n",
      "Epoch: 5/20 Iter 591... Training loss: 0.1567\n",
      "Epoch: 6/20 Iter 601... Training loss: 0.1548\n",
      "Epoch: 6/20 Iter 611... Training loss: 0.1548\n",
      "Epoch: 6/20 Iter 621... Training loss: 0.1542\n",
      "Epoch: 6/20 Iter 631... Training loss: 0.1508\n",
      "Epoch: 6/20 Iter 641... Training loss: 0.1531\n",
      "Epoch: 6/20 Iter 651... Training loss: 0.1539\n",
      "Epoch: 6/20 Iter 661... Training loss: 0.1524\n",
      "Epoch: 6/20 Iter 671... Training loss: 0.1511\n",
      "Epoch: 6/20 Iter 681... Training loss: 0.1515\n",
      "Epoch: 6/20 Iter 691... Training loss: 0.1479\n",
      "Epoch: 6/20 Iter 701... Training loss: 0.1462\n",
      "Epoch: 6/20 Iter 711... Training loss: 0.1526\n",
      "Epoch: 7/20 Iter 721... Training loss: 0.1496\n",
      "Epoch: 7/20 Iter 731... Training loss: 0.1476\n",
      "Epoch: 7/20 Iter 741... Training loss: 0.1470\n",
      "Epoch: 7/20 Iter 751... Training loss: 0.1465\n",
      "Epoch: 7/20 Iter 761... Training loss: 0.1491\n",
      "Epoch: 7/20 Iter 771... Training loss: 0.1463\n",
      "Epoch: 7/20 Iter 781... Training loss: 0.1461\n",
      "Epoch: 7/20 Iter 791... Training loss: 0.1477\n",
      "Epoch: 7/20 Iter 801... Training loss: 0.1447\n",
      "Epoch: 7/20 Iter 811... Training loss: 0.1475\n",
      "Epoch: 7/20 Iter 821... Training loss: 0.1480\n",
      "Epoch: 7/20 Iter 831... Training loss: 0.1482\n",
      "Epoch: 8/20 Iter 841... Training loss: 0.1435\n",
      "Epoch: 8/20 Iter 851... Training loss: 0.1459\n",
      "Epoch: 8/20 Iter 861... Training loss: 0.1448\n",
      "Epoch: 8/20 Iter 871... Training loss: 0.1447\n",
      "Epoch: 8/20 Iter 881... Training loss: 0.1444\n",
      "Epoch: 8/20 Iter 891... Training loss: 0.1429\n",
      "Epoch: 8/20 Iter 901... Training loss: 0.1458\n",
      "Epoch: 8/20 Iter 911... Training loss: 0.1440\n",
      "Epoch: 8/20 Iter 921... Training loss: 0.1390\n",
      "Epoch: 8/20 Iter 931... Training loss: 0.1391\n",
      "Epoch: 8/20 Iter 941... Training loss: 0.1409\n",
      "Epoch: 8/20 Iter 951... Training loss: 0.1392\n",
      "Epoch: 9/20 Iter 961... Training loss: 0.1390\n",
      "Epoch: 9/20 Iter 971... Training loss: 0.1401\n",
      "Epoch: 9/20 Iter 981... Training loss: 0.1392\n",
      "Epoch: 9/20 Iter 991... Training loss: 0.1411\n",
      "Epoch: 9/20 Iter 1001... Training loss: 0.1393\n",
      "Epoch: 9/20 Iter 1011... Training loss: 0.1374\n",
      "Epoch: 9/20 Iter 1021... Training loss: 0.1423\n",
      "Epoch: 9/20 Iter 1031... Training loss: 0.1350\n",
      "Epoch: 9/20 Iter 1041... Training loss: 0.1397\n",
      "Epoch: 9/20 Iter 1051... Training loss: 0.1376\n",
      "Epoch: 9/20 Iter 1061... Training loss: 0.1403\n",
      "Epoch: 9/20 Iter 1071... Training loss: 0.1402\n",
      "Epoch: 10/20 Iter 1081... Training loss: 0.1387\n",
      "Epoch: 10/20 Iter 1091... Training loss: 0.1387\n",
      "Epoch: 10/20 Iter 1101... Training loss: 0.1345\n",
      "Epoch: 10/20 Iter 1111... Training loss: 0.1392\n",
      "Epoch: 10/20 Iter 1121... Training loss: 0.1394\n",
      "Epoch: 10/20 Iter 1131... Training loss: 0.1348\n",
      "Epoch: 10/20 Iter 1141... Training loss: 0.1341\n",
      "Epoch: 10/20 Iter 1151... Training loss: 0.1384\n",
      "Epoch: 10/20 Iter 1161... Training loss: 0.1356\n",
      "Epoch: 10/20 Iter 1171... Training loss: 0.1365\n",
      "Epoch: 10/20 Iter 1181... Training loss: 0.1350\n",
      "Epoch: 10/20 Iter 1191... Training loss: 0.1364\n",
      "Epoch: 11/20 Iter 1201... Training loss: 0.1397\n",
      "Epoch: 11/20 Iter 1211... Training loss: 0.1338\n",
      "Epoch: 11/20 Iter 1221... Training loss: 0.1333\n",
      "Epoch: 11/20 Iter 1231... Training loss: 0.1369\n",
      "Epoch: 11/20 Iter 1241... Training loss: 0.1393\n",
      "Epoch: 11/20 Iter 1251... Training loss: 0.1317\n",
      "Epoch: 11/20 Iter 1261... Training loss: 0.1362\n",
      "Epoch: 11/20 Iter 1271... Training loss: 0.1359\n",
      "Epoch: 11/20 Iter 1281... Training loss: 0.1325\n",
      "Epoch: 11/20 Iter 1291... Training loss: 0.1346\n",
      "Epoch: 11/20 Iter 1301... Training loss: 0.1331\n",
      "Epoch: 11/20 Iter 1311... Training loss: 0.1310\n",
      "Epoch: 12/20 Iter 1321... Training loss: 0.1328\n",
      "Epoch: 12/20 Iter 1331... Training loss: 0.1320\n",
      "Epoch: 12/20 Iter 1341... Training loss: 0.1342\n",
      "Epoch: 12/20 Iter 1351... Training loss: 0.1355\n",
      "Epoch: 12/20 Iter 1361... Training loss: 0.1311\n",
      "Epoch: 12/20 Iter 1371... Training loss: 0.1365\n",
      "Epoch: 12/20 Iter 1381... Training loss: 0.1324\n",
      "Epoch: 12/20 Iter 1391... Training loss: 0.1313\n",
      "Epoch: 12/20 Iter 1401... Training loss: 0.1325\n",
      "Epoch: 12/20 Iter 1411... Training loss: 0.1312\n",
      "Epoch: 12/20 Iter 1421... Training loss: 0.1305\n",
      "Epoch: 12/20 Iter 1431... Training loss: 0.1336\n",
      "Epoch: 13/20 Iter 1441... Training loss: 0.1356\n",
      "Epoch: 13/20 Iter 1451... Training loss: 0.1353\n",
      "Epoch: 13/20 Iter 1461... Training loss: 0.1299\n",
      "Epoch: 13/20 Iter 1471... Training loss: 0.1308\n",
      "Epoch: 13/20 Iter 1481... Training loss: 0.1285\n",
      "Epoch: 13/20 Iter 1491... Training loss: 0.1293\n",
      "Epoch: 13/20 Iter 1501... Training loss: 0.1298\n",
      "Epoch: 13/20 Iter 1511... Training loss: 0.1304\n",
      "Epoch: 13/20 Iter 1521... Training loss: 0.1278\n",
      "Epoch: 13/20 Iter 1531... Training loss: 0.1301\n",
      "Epoch: 13/20 Iter 1541... Training loss: 0.1288\n",
      "Epoch: 13/20 Iter 1551... Training loss: 0.1309\n",
      "Epoch: 14/20 Iter 1561... Training loss: 0.1308\n",
      "Epoch: 14/20 Iter 1571... Training loss: 0.1265\n",
      "Epoch: 14/20 Iter 1581... Training loss: 0.1311\n",
      "Epoch: 14/20 Iter 1591... Training loss: 0.1286\n",
      "Epoch: 14/20 Iter 1601... Training loss: 0.1289\n",
      "Epoch: 14/20 Iter 1611... Training loss: 0.1302\n",
      "Epoch: 14/20 Iter 1621... Training loss: 0.1281\n",
      "Epoch: 14/20 Iter 1631... Training loss: 0.1292\n",
      "Epoch: 14/20 Iter 1641... Training loss: 0.1310\n",
      "Epoch: 14/20 Iter 1651... Training loss: 0.1277\n",
      "Epoch: 14/20 Iter 1661... Training loss: 0.1280\n",
      "Epoch: 14/20 Iter 1671... Training loss: 0.1282\n",
      "Epoch: 15/20 Iter 1681... Training loss: 0.1253\n",
      "Epoch: 15/20 Iter 1691... Training loss: 0.1253\n",
      "Epoch: 15/20 Iter 1701... Training loss: 0.1287\n",
      "Epoch: 15/20 Iter 1711... Training loss: 0.1263\n",
      "Epoch: 15/20 Iter 1721... Training loss: 0.1269\n",
      "Epoch: 15/20 Iter 1731... Training loss: 0.1255\n",
      "Epoch: 15/20 Iter 1741... Training loss: 0.1286\n",
      "Epoch: 15/20 Iter 1751... Training loss: 0.1271\n"
     ]
    },
    {
     "name": "stdout",
     "output_type": "stream",
     "text": [
      "Epoch: 15/20 Iter 1761... Training loss: 0.1262\n",
      "Epoch: 15/20 Iter 1771... Training loss: 0.1275\n",
      "Epoch: 15/20 Iter 1781... Training loss: 0.1271\n",
      "Epoch: 15/20 Iter 1791... Training loss: 0.1268\n",
      "Epoch: 16/20 Iter 1801... Training loss: 0.1201\n",
      "Epoch: 16/20 Iter 1811... Training loss: 0.1271\n",
      "Epoch: 16/20 Iter 1821... Training loss: 0.1281\n",
      "Epoch: 16/20 Iter 1831... Training loss: 0.1244\n",
      "Epoch: 16/20 Iter 1841... Training loss: 0.1269\n",
      "Epoch: 16/20 Iter 1851... Training loss: 0.1252\n",
      "Epoch: 16/20 Iter 1861... Training loss: 0.1236\n",
      "Epoch: 16/20 Iter 1871... Training loss: 0.1260\n",
      "Epoch: 16/20 Iter 1881... Training loss: 0.1242\n",
      "Epoch: 16/20 Iter 1891... Training loss: 0.1283\n",
      "Epoch: 16/20 Iter 1901... Training loss: 0.1269\n",
      "Epoch: 16/20 Iter 1911... Training loss: 0.1256\n",
      "Epoch: 17/20 Iter 1921... Training loss: 0.1256\n",
      "Epoch: 17/20 Iter 1931... Training loss: 0.1267\n",
      "Epoch: 17/20 Iter 1941... Training loss: 0.1267\n",
      "Epoch: 17/20 Iter 1951... Training loss: 0.1238\n",
      "Epoch: 17/20 Iter 1961... Training loss: 0.1277\n",
      "Epoch: 17/20 Iter 1971... Training loss: 0.1250\n",
      "Epoch: 17/20 Iter 1981... Training loss: 0.1256\n",
      "Epoch: 17/20 Iter 1991... Training loss: 0.1252\n",
      "Epoch: 17/20 Iter 2001... Training loss: 0.1243\n",
      "Epoch: 17/20 Iter 2011... Training loss: 0.1262\n",
      "Epoch: 17/20 Iter 2021... Training loss: 0.1242\n",
      "Epoch: 17/20 Iter 2031... Training loss: 0.1231\n",
      "Epoch: 18/20 Iter 2041... Training loss: 0.1271\n",
      "Epoch: 18/20 Iter 2051... Training loss: 0.1274\n",
      "Epoch: 18/20 Iter 2061... Training loss: 0.1255\n",
      "Epoch: 18/20 Iter 2071... Training loss: 0.1231\n",
      "Epoch: 18/20 Iter 2081... Training loss: 0.1252\n",
      "Epoch: 18/20 Iter 2091... Training loss: 0.1224\n",
      "Epoch: 18/20 Iter 2101... Training loss: 0.1259\n",
      "Epoch: 18/20 Iter 2111... Training loss: 0.1217\n",
      "Epoch: 18/20 Iter 2121... Training loss: 0.1253\n",
      "Epoch: 18/20 Iter 2131... Training loss: 0.1233\n",
      "Epoch: 18/20 Iter 2141... Training loss: 0.1198\n",
      "Epoch: 18/20 Iter 2151... Training loss: 0.1256\n",
      "Epoch: 19/20 Iter 2161... Training loss: 0.1233\n",
      "Epoch: 19/20 Iter 2171... Training loss: 0.1248\n",
      "Epoch: 19/20 Iter 2181... Training loss: 0.1238\n",
      "Epoch: 19/20 Iter 2191... Training loss: 0.1210\n",
      "Epoch: 19/20 Iter 2201... Training loss: 0.1220\n",
      "Epoch: 19/20 Iter 2211... Training loss: 0.1195\n",
      "Epoch: 19/20 Iter 2221... Training loss: 0.1238\n",
      "Epoch: 19/20 Iter 2231... Training loss: 0.1239\n",
      "Epoch: 19/20 Iter 2241... Training loss: 0.1247\n",
      "Epoch: 19/20 Iter 2251... Training loss: 0.1227\n",
      "Epoch: 19/20 Iter 2261... Training loss: 0.1232\n",
      "Epoch: 19/20 Iter 2271... Training loss: 0.1234\n",
      "Epoch: 20/20 Iter 2281... Training loss: 0.1250\n",
      "Epoch: 20/20 Iter 2291... Training loss: 0.1205\n",
      "Epoch: 20/20 Iter 2301... Training loss: 0.1219\n",
      "Epoch: 20/20 Iter 2311... Training loss: 0.1254\n",
      "Epoch: 20/20 Iter 2321... Training loss: 0.1232\n",
      "Epoch: 20/20 Iter 2331... Training loss: 0.1215\n",
      "Epoch: 20/20 Iter 2341... Training loss: 0.1195\n",
      "Epoch: 20/20 Iter 2351... Training loss: 0.1211\n",
      "Epoch: 20/20 Iter 2361... Training loss: 0.1211\n",
      "Epoch: 20/20 Iter 2371... Training loss: 0.1198\n",
      "Epoch: 20/20 Iter 2381... Training loss: 0.1215\n",
      "Epoch: 20/20 Iter 2391... Training loss: 0.1230\n"
     ]
    }
   ],
   "source": [
    "# epochs = 20\n",
    "# batch_size = 200\n",
    "epochs = 20\n",
    "batch_size = 500\n",
    "iters=0\n",
    "sess.run(tf.global_variables_initializer())\n",
    "for e in range(epochs):\n",
    "    for ii in range(mnist.train.num_examples//batch_size):\n",
    "        batch = mnist.train.next_batch(batch_size)\n",
    "        imgs = batch[0].reshape((-1, 28, 28, 1))\n",
    "        batch_cost, _ = sess.run([cost, opt], feed_dict={inputs_: imgs,\n",
    "                                                         targets_: imgs})\n",
    "        iters += 1\n",
    "        if(iters%10==1):\n",
    "            print(\"Epoch: {}/{} Iter {}...\".format(e+1, epochs, iters),\n",
    "                  \"Training loss: {:.4f}\".format(batch_cost))"
   ]
  },
  {
   "cell_type": "code",
   "execution_count": 7,
   "metadata": {},
   "outputs": [
    {
     "data": {
      "image/png": "[encoded data removed]",
      "text/plain": [
       "<matplotlib.figure.Figure at 0x164e6000748>"
      ]
     },
     "metadata": {},
     "output_type": "display_data"
    }
   ],
   "source": [
    "fig, axes = plt.subplots(nrows=2, ncols=10, sharex=True, sharey=True, figsize=(20,4))\n",
    "in_imgs = mnist.test.images[:10]\n",
    "reconstructed = sess.run(decoded, feed_dict={inputs_: in_imgs.reshape((10, 28, 28, 1))})\n",
    "\n",
    "for images, row in zip([in_imgs, reconstructed], axes):\n",
    "    for img, ax in zip(images, row):\n",
    "        ax.imshow(img.reshape((28, 28)), cmap='Greys_r')\n",
    "        ax.get_xaxis().set_visible(False)\n",
    "        ax.get_yaxis().set_visible(False)\n",
    "\n",
    "\n",
    "fig.tight_layout(pad=0.1)"
   ]
  },
  {
   "cell_type": "code",
   "execution_count": 8,
   "metadata": {
    "collapsed": true
   },
   "outputs": [],
   "source": [
    "sess.close()"
   ]
  },
  {
   "cell_type": "markdown",
   "metadata": {},
   "source": [
    "## Denoising\n",
    "\n",
    "As I've mentioned before, autoencoders like the ones you've built so far aren't too useful in practive. However, they can be used to denoise images quite successfully just by training the network on noisy images. We can create the noisy images ourselves by adding Gaussian noise to the training images, then clipping the values to be between 0 and 1. We'll use noisy images as input and the original, clean images as targets. Here's an example of the noisy images I generated and the denoised images.\n",
    "\n",
    "![Denoising autoencoder](assets/denoising.png)\n",
    "\n",
    "\n",
    "Since this is a harder problem for the network, we'll want to use deeper convolutional layers here, more feature maps. I suggest something like 32-32-16 for the depths of the convolutional layers in the encoder, and the same depths going backward through the decoder. Otherwise the architecture is the same as before.\n",
    "\n",
    "> **Exercise:** Build the network for the denoising autoencoder. It's the same as before, but with deeper layers. I suggest 32-32-16 for the depths, but you can play with these numbers, or add more layers."
   ]
  },
  {
   "cell_type": "code",
   "execution_count": 9,
   "metadata": {
    "collapsed": true
   },
   "outputs": [],
   "source": [
    "learning_rate = 0.001\n",
    "inputs_ = tf.placeholder(tf.float32, (None, 28, 28, 1), name='inputs')\n",
    "targets_ = tf.placeholder(tf.float32, (None, 28, 28, 1), name='targets')\n",
    "\n",
    "### Encoder\n",
    "conv1 = tf.layers.conv2d(inputs_, filters= 32, kernel_size=(5,5),strides=(1,1), padding='same', activation=tf.nn.relu)\n",
    "# Now 28x28x32\n",
    "maxpool1 = tf.layers.max_pooling2d(conv1, pool_size=(5,5),strides=(2,2),padding='same')\n",
    "# Now 14x14x32\n",
    "conv2 = tf.layers.conv2d(maxpool1, filters= 32, kernel_size=(3,3),strides=(1,1), padding='same', activation=tf.nn.relu)\n",
    "# Now 14x14x32\n",
    "maxpool2 = tf.layers.max_pooling2d(conv2, pool_size=(3,3),strides=(2,2),padding='same')\n",
    "# Now 7x7x32\n",
    "conv3 =  tf.layers.conv2d(maxpool2, filters= 16, kernel_size=(2,2),strides=(1,1), padding='same', activation=tf.nn.relu)\n",
    "# Now 7x7x16\n",
    "encoded = tf.layers.max_pooling2d(conv3, pool_size=(2,2),strides=(2,2),padding='same')\n",
    "# Now 4x4x16\n",
    "\n",
    "### Decoder\n",
    "upsample1 = tf.image.resize_images(images=encoded, size=(7,7))\n",
    "# Now 7x7x16\n",
    "conv4 = tf.layers.conv2d(inputs=upsample1,filters=16,kernel_size=(2,2),strides=(1, 1),padding='same',activation=tf.nn.relu)\n",
    "# Now 7x7x16\n",
    "upsample2 = tf.image.resize_images(images=conv4, size=(14,14))\n",
    "# Now 14x14x16\n",
    "conv5 = tf.layers.conv2d(inputs=upsample2,filters=32,kernel_size=(3,3),strides=(1, 1),padding='same',activation=tf.nn.relu)\n",
    "# Now 14x14x32\n",
    "upsample3 = tf.image.resize_images(images=conv5, size=(28,28))\n",
    "# Now 28x28x32\n",
    "conv6 = tf.layers.conv2d(inputs=upsample3,filters=32,kernel_size=(5,5),strides=(1, 1),padding='same',activation=tf.nn.relu)\n",
    "# Now 28x28x32\n",
    "\n",
    "logits =  tf.layers.conv2d(inputs=conv6,filters=1,kernel_size=(5,5),strides=(1, 1),padding='same',activation=None)\n",
    "#Now 28x28x1\n",
    "\n",
    "# Pass logits through sigmoid to get reconstructed image\n",
    "decoded = tf.nn.sigmoid(logits)\n",
    "\n",
    "# Pass logits through sigmoid and calculate the cross-entropy loss\n",
    "loss = tf.nn.sigmoid_cross_entropy_with_logits(labels=targets_, logits=logits)\n",
    "\n",
    "# Get cost and define the optimizer\n",
    "cost = tf.reduce_mean(loss)\n",
    "opt = tf.train.AdamOptimizer(learning_rate).minimize(cost)"
   ]
  },
  {
   "cell_type": "code",
   "execution_count": 10,
   "metadata": {
    "collapsed": true
   },
   "outputs": [],
   "source": [
    "sess = tf.Session()"
   ]
  },
  {
   "cell_type": "code",
   "execution_count": 11,
   "metadata": {},
   "outputs": [
    {
     "name": "stdout",
     "output_type": "stream",
     "text": [
      "Epoch: 1/50 Iter 1... Training loss: 0.7004\n",
      "Epoch: 1/50 Iter 101... Training loss: 0.2586\n",
      "Epoch: 2/50 Iter 201... Training loss: 0.2200\n",
      "Epoch: 3/50 Iter 301... Training loss: 0.1988\n",
      "Epoch: 4/50 Iter 401... Training loss: 0.1869\n",
      "Epoch: 5/50 Iter 501... Training loss: 0.1791\n",
      "Epoch: 6/50 Iter 601... Training loss: 0.1687\n",
      "Epoch: 6/50 Iter 701... Training loss: 0.1637\n",
      "Epoch: 7/50 Iter 801... Training loss: 0.1597\n",
      "Epoch: 8/50 Iter 901... Training loss: 0.1535\n",
      "Epoch: 9/50 Iter 1001... Training loss: 0.1635\n",
      "Epoch: 10/50 Iter 1101... Training loss: 0.1468\n",
      "Epoch: 11/50 Iter 1201... Training loss: 0.1523\n",
      "Epoch: 11/50 Iter 1301... Training loss: 0.1478\n",
      "Epoch: 12/50 Iter 1401... Training loss: 0.1476\n",
      "Epoch: 13/50 Iter 1501... Training loss: 0.1447\n",
      "Epoch: 14/50 Iter 1601... Training loss: 0.1443\n",
      "Epoch: 15/50 Iter 1701... Training loss: 0.1386\n",
      "Epoch: 16/50 Iter 1801... Training loss: 0.1385\n",
      "Epoch: 16/50 Iter 1901... Training loss: 0.1392\n",
      "Epoch: 17/50 Iter 2001... Training loss: 0.1384\n",
      "Epoch: 18/50 Iter 2101... Training loss: 0.1364\n",
      "Epoch: 19/50 Iter 2201... Training loss: 0.1374\n",
      "Epoch: 20/50 Iter 2301... Training loss: 0.1366\n",
      "Epoch: 21/50 Iter 2401... Training loss: 0.1324\n",
      "Epoch: 21/50 Iter 2501... Training loss: 0.1296\n",
      "Epoch: 22/50 Iter 2601... Training loss: 0.1300\n",
      "Epoch: 23/50 Iter 2701... Training loss: 0.1332\n",
      "Epoch: 24/50 Iter 2801... Training loss: 0.1297\n",
      "Epoch: 25/50 Iter 2901... Training loss: 0.1311\n",
      "Epoch: 26/50 Iter 3001... Training loss: 0.1260\n",
      "Epoch: 26/50 Iter 3101... Training loss: 0.1292\n",
      "Epoch: 27/50 Iter 3201... Training loss: 0.1280\n",
      "Epoch: 28/50 Iter 3301... Training loss: 0.1284\n",
      "Epoch: 29/50 Iter 3401... Training loss: 0.1268\n",
      "Epoch: 30/50 Iter 3501... Training loss: 0.1285\n",
      "Epoch: 31/50 Iter 3601... Training loss: 0.1271\n",
      "Epoch: 31/50 Iter 3701... Training loss: 0.1256\n",
      "Epoch: 32/50 Iter 3801... Training loss: 0.1228\n",
      "Epoch: 33/50 Iter 3901... Training loss: 0.1244\n",
      "Epoch: 34/50 Iter 4001... Training loss: 0.1214\n",
      "Epoch: 35/50 Iter 4101... Training loss: 0.1238\n",
      "Epoch: 36/50 Iter 4201... Training loss: 0.1225\n",
      "Epoch: 36/50 Iter 4301... Training loss: 0.1205\n",
      "Epoch: 37/50 Iter 4401... Training loss: 0.1223\n",
      "Epoch: 38/50 Iter 4501... Training loss: 0.1231\n",
      "Epoch: 39/50 Iter 4601... Training loss: 0.1216\n",
      "Epoch: 40/50 Iter 4701... Training loss: 0.1186\n",
      "Epoch: 41/50 Iter 4801... Training loss: 0.1205\n",
      "Epoch: 41/50 Iter 4901... Training loss: 0.1199\n",
      "Epoch: 42/50 Iter 5001... Training loss: 0.1187\n",
      "Epoch: 43/50 Iter 5101... Training loss: 0.1211\n",
      "Epoch: 44/50 Iter 5201... Training loss: 0.1228\n",
      "Epoch: 45/50 Iter 5301... Training loss: 0.1198\n",
      "Epoch: 46/50 Iter 5401... Training loss: 0.1189\n",
      "Epoch: 46/50 Iter 5501... Training loss: 0.1189\n",
      "Epoch: 47/50 Iter 5601... Training loss: 0.1194\n",
      "Epoch: 48/50 Iter 5701... Training loss: 0.1198\n",
      "Epoch: 49/50 Iter 5801... Training loss: 0.1185\n",
      "Epoch: 50/50 Iter 5901... Training loss: 0.1166\n"
     ]
    }
   ],
   "source": [
    "# epochs = 100\n",
    "# batch_size = 200\n",
    "epochs = 50\n",
    "batch_size = 500\n",
    "iters=0\n",
    "# Set's how much noise we're adding to the MNIST images\n",
    "noise_factor = 0.5\n",
    "sess.run(tf.global_variables_initializer())\n",
    "for e in range(epochs):\n",
    "    for ii in range(mnist.train.num_examples//batch_size):\n",
    "        batch = mnist.train.next_batch(batch_size)\n",
    "        # Get images from the batch\n",
    "        imgs = batch[0].reshape((-1, 28, 28, 1))\n",
    "        \n",
    "        # Add random noise to the input images\n",
    "        noisy_imgs = imgs + noise_factor * np.random.randn(*imgs.shape)\n",
    "        # Clip the images to be between 0 and 1\n",
    "        noisy_imgs = np.clip(noisy_imgs, 0., 1.)\n",
    "        \n",
    "        # Noisy images as inputs, original images as targets\n",
    "        batch_cost, _ = sess.run([cost, opt], feed_dict={inputs_: noisy_imgs,\n",
    "                                                         targets_: imgs})\n",
    "        iters += 1\n",
    "        if(iters%100==1):\n",
    "            print(\"Epoch: {}/{} Iter {}...\".format(e+1, epochs, iters),\n",
    "                  \"Training loss: {:.4f}\".format(batch_cost))"
   ]
  },
  {
   "cell_type": "markdown",
   "metadata": {},
   "source": [
    "## Checking out the performance\n",
    "\n",
    "Here I'm adding noise to the test images and passing them through the autoencoder. It does a suprisingly great job of removing the noise, even though it's sometimes difficult to tell what the original number is."
   ]
  },
  {
   "cell_type": "code",
   "execution_count": 12,
   "metadata": {},
   "outputs": [
    {
     "data": {
      "image/png": "[encoded data removed]",
      "text/plain": [
       "<matplotlib.figure.Figure at 0x1648069ca90>"
      ]
     },
     "metadata": {},
     "output_type": "display_data"
    }
   ],
   "source": [
    "fig, axes = plt.subplots(nrows=2, ncols=10, sharex=True, sharey=True, figsize=(20,4))\n",
    "in_imgs = mnist.test.images[:10]\n",
    "noisy_imgs = in_imgs + noise_factor * np.random.randn(*in_imgs.shape)\n",
    "noisy_imgs = np.clip(noisy_imgs, 0., 1.)\n",
    "\n",
    "reconstructed = sess.run(decoded, feed_dict={inputs_: noisy_imgs.reshape((10, 28, 28, 1))})\n",
    "\n",
    "for images, row in zip([noisy_imgs, reconstructed], axes):\n",
    "    for img, ax in zip(images, row):\n",
    "        ax.imshow(img.reshape((28, 28)), cmap='Greys_r')\n",
    "        ax.get_xaxis().set_visible(False)\n",
    "        ax.get_yaxis().set_visible(False)\n",
    "\n",
    "fig.tight_layout(pad=0.1)"
   ]
  },
  {
   "cell_type": "code",
   "execution_count": null,
   "metadata": {
    "collapsed": true
   },
   "outputs": [],
   "source": []
  }
 ],
 "metadata": {
  "kernelspec": {
   "display_name": "Python 3",
   "language": "python",
   "name": "python3"
  },
  "language_info": {
   "codemirror_mode": {
    "name": "ipython",
    "version": 3
   },
   "file_extension": ".py",
   "mimetype": "text/x-python",
   "name": "python",
   "nbconvert_exporter": "python",
   "pygments_lexer": "ipython3",
   "version": "3.6.3"
  }
 },
 "nbformat": 4,
 "nbformat_minor": 2
}
