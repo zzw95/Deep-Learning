{
 "cells": [
  {
   "cell_type": "markdown",
   "metadata": {
    "collapsed": true
   },
   "source": [
    "# Image Classification\n",
    "In this project, you'll classify images from the [CIFAR-10 dataset](https://www.cs.toronto.edu/~kriz/cifar.html).  The dataset consists of airplanes, dogs, cats, and other objects. You'll preprocess the images, then train a convolutional neural network on all the samples. The images need to be normalized and the labels need to be one-hot encoded.  You'll get to apply what you learned and build a convolutional, max pooling, dropout, and fully connected layers.  At the end, you'll get to see your neural network's predictions on the sample images.\n",
    "## Get the Data\n",
    "Run the following cell to download the [CIFAR-10 dataset for python](https://www.cs.toronto.edu/~kriz/cifar-10-python.tar.gz)."
   ]
  },
  {
   "cell_type": "code",
   "execution_count": 1,
   "metadata": {},
   "outputs": [
    {
     "name": "stdout",
     "output_type": "stream",
     "text": [
      "All files found!\n"
     ]
    }
   ],
   "source": [
    "\"\"\"\n",
    "DON'T MODIFY ANYTHING IN THIS CELL THAT IS BELOW THIS LINE\n",
    "\"\"\"\n",
    "from urllib.request import urlretrieve\n",
    "from os.path import isfile, isdir\n",
    "from tqdm import tqdm\n",
    "import problem_unittests as tests\n",
    "import tarfile\n",
    "\n",
    "cifar10_dataset_folder_path = 'cifar-10-batches-py'\n",
    "\n",
    "# Use Floyd's cifar-10 dataset if present\n",
    "floyd_cifar10_location = '/cifar/cifar-10-python.tar.gz'\n",
    "if isfile(floyd_cifar10_location):\n",
    "    tar_gz_path = floyd_cifar10_location\n",
    "else:\n",
    "    tar_gz_path = 'cifar-10-python.tar.gz'\n",
    "\n",
    "class DLProgress(tqdm):\n",
    "    last_block = 0\n",
    "\n",
    "    def hook(self, block_num=1, block_size=1, total_size=None):\n",
    "        self.total = total_size\n",
    "        self.update((block_num - self.last_block) * block_size)\n",
    "        self.last_block = block_num\n",
    "\n",
    "if not isfile(tar_gz_path):\n",
    "    with DLProgress(unit='B', unit_scale=True, miniters=1, desc='CIFAR-10 Dataset') as pbar:\n",
    "        urlretrieve(\n",
    "            'https://www.cs.toronto.edu/~kriz/cifar-10-python.tar.gz',\n",
    "            tar_gz_path,\n",
    "            pbar.hook)\n",
    "\n",
    "if not isdir(cifar10_dataset_folder_path):\n",
    "    with tarfile.open(tar_gz_path) as tar:\n",
    "        tar.extractall()\n",
    "        tar.close()\n",
    "\n",
    "\n",
    "tests.test_folder_path(cifar10_dataset_folder_path)"
   ]
  },
  {
   "cell_type": "markdown",
   "metadata": {},
   "source": [
    "## Explore the Data\n",
    "The dataset is broken into batches to prevent your machine from running out of memory.  The CIFAR-10 dataset consists of 5 batches, named `data_batch_1`, `data_batch_2`, etc.. Each batch contains the labels and images that are one of the following:\n",
    "* airplane\n",
    "* automobile\n",
    "* bird\n",
    "* cat\n",
    "* deer\n",
    "* dog\n",
    "* frog\n",
    "* horse\n",
    "* ship\n",
    "* truck\n",
    "\n",
    "Understanding a dataset is part of making predictions on the data.  Play around with the code cell below by changing the `batch_id` and `sample_id`. The `batch_id` is the id for a batch (1-5). The `sample_id` is the id for a image and label pair in the batch.\n",
    "\n",
    "Ask yourself \"What are all possible labels?\", \"What is the range of values for the image data?\", \"Are the labels in order or random?\".  Answers to questions like these will help you preprocess the data and end up with better predictions."
   ]
  },
  {
   "cell_type": "code",
   "execution_count": 2,
   "metadata": {},
   "outputs": [
    {
     "name": "stdout",
     "output_type": "stream",
     "text": [
      "\n",
      "Stats of batch 1:\n",
      "Samples: 10000\n",
      "Label Counts: {0: 1005, 1: 974, 2: 1032, 3: 1016, 4: 999, 5: 937, 6: 1030, 7: 1001, 8: 1025, 9: 981}\n",
      "First 20 Labels: [6, 9, 9, 4, 1, 1, 2, 7, 8, 3, 4, 7, 7, 2, 9, 9, 9, 3, 2, 6]\n",
      "\n",
      "Example of Image 5:\n",
      "Image - Min Value: 0 Max Value: 252\n",
      "Image - Shape: (32, 32, 3)\n",
      "Label - Label Id: 1 Name: automobile\n"
     ]
    },
    {
     "data": {
      "image/png": "[encoded data removed]",
      "text/plain": [
       "<matplotlib.figure.Figure at 0x16edbc4f198>"
      ]
     },
     "metadata": {
      "image/png": {
       "height": 250,
       "width": 253
      }
     },
     "output_type": "display_data"
    }
   ],
   "source": [
    "%matplotlib inline\n",
    "%config InlineBackend.figure_format = 'retina'\n",
    "\n",
    "import helper\n",
    "import numpy as np\n",
    "\n",
    "# Explore the dataset\n",
    "batch_id = 1\n",
    "sample_id = 5\n",
    "helper.display_stats(cifar10_dataset_folder_path, batch_id, sample_id)"
   ]
  },
  {
   "cell_type": "markdown",
   "metadata": {},
   "source": [
    "## Implement Preprocess Functions\n",
    "### Normalize\n",
    "In the cell below, implement the `normalize` function to take in image data, `x`, and return it as a normalized Numpy array. The values should be in the range of 0 to 1, inclusive.  The return object should be the same shape as `x`."
   ]
  },
  {
   "cell_type": "code",
   "execution_count": 3,
   "metadata": {},
   "outputs": [
    {
     "name": "stdout",
     "output_type": "stream",
     "text": [
      "Tests Passed\n"
     ]
    }
   ],
   "source": [
    "def normalize(x):\n",
    "    \"\"\"\n",
    "    Normalize a list of sample image data in the range of 0 to 1\n",
    "    : x: List of image data.  The image shape is (32, 32, 3)\n",
    "    : return: Numpy array of normalize data\n",
    "    \"\"\"\n",
    "    # TODO: Implement Function\n",
    "    return np.array(x)/255\n",
    "\n",
    "\n",
    "\"\"\"\n",
    "DON'T MODIFY ANYTHING IN THIS CELL THAT IS BELOW THIS LINE\n",
    "\"\"\"\n",
    "tests.test_normalize(normalize)"
   ]
  },
  {
   "cell_type": "markdown",
   "metadata": {},
   "source": [
    "### One-hot encode\n",
    "Just like the previous code cell, you'll be implementing a function for preprocessing.  This time, you'll implement the `one_hot_encode` function. The input, `x`, are a list of labels.  Implement the function to return the list of labels as One-Hot encoded Numpy array.  The possible values for labels are 0 to 9. The one-hot encoding function should return the same encoding for each value between each call to `one_hot_encode`.  Make sure to save the map of encodings outside the function.\n",
    "\n",
    "Hint: Don't reinvent the wheel."
   ]
  },
  {
   "cell_type": "code",
   "execution_count": 4,
   "metadata": {},
   "outputs": [
    {
     "name": "stdout",
     "output_type": "stream",
     "text": [
      "Tests Passed\n"
     ]
    }
   ],
   "source": [
    "def one_hot_encode(x):\n",
    "    \"\"\"\n",
    "    One hot encode a list of sample labels. Return a one-hot encoded vector for each label.\n",
    "    : x: List of sample Labels\n",
    "    : return: Numpy array of one-hot encoded labels\n",
    "    \"\"\"\n",
    "    # TODO: Implement Function\n",
    "    return np.eye(10)[np.array(x)]\n",
    "\n",
    "\n",
    "\"\"\"\n",
    "DON'T MODIFY ANYTHING IN THIS CELL THAT IS BELOW THIS LINE\n",
    "\"\"\"\n",
    "tests.test_one_hot_encode(one_hot_encode)"
   ]
  },
  {
   "cell_type": "markdown",
   "metadata": {},
   "source": [
    "### Randomize Data\n",
    "As you saw from exploring the data above, the order of the samples are randomized.  It doesn't hurt to randomize it again, but you don't need to for this dataset."
   ]
  },
  {
   "cell_type": "markdown",
   "metadata": {},
   "source": [
    "## Preprocess all the data and save it\n",
    "Running the code cell below will preprocess all the CIFAR-10 data and save it to file. The code below also uses 10% of the training data for validation."
   ]
  },
  {
   "cell_type": "code",
   "execution_count": 5,
   "metadata": {
    "collapsed": true
   },
   "outputs": [],
   "source": [
    "\"\"\"\n",
    "DON'T MODIFY ANYTHING IN THIS CELL\n",
    "\"\"\"\n",
    "# Preprocess Training, Validation, and Testing Data\n",
    "helper.preprocess_and_save_data(cifar10_dataset_folder_path, normalize, one_hot_encode)"
   ]
  },
  {
   "cell_type": "markdown",
   "metadata": {},
   "source": [
    "# Check Point\n",
    "This is your first checkpoint.  If you ever decide to come back to this notebook or have to restart the notebook, you can start from here.  The preprocessed data has been saved to disk."
   ]
  },
  {
   "cell_type": "code",
   "execution_count": 6,
   "metadata": {
    "collapsed": true
   },
   "outputs": [],
   "source": [
    "\"\"\"\n",
    "DON'T MODIFY ANYTHING IN THIS CELL\n",
    "\"\"\"\n",
    "import pickle\n",
    "import problem_unittests as tests\n",
    "import helper\n",
    "\n",
    "# Load the Preprocessed Validation data\n",
    "valid_features, valid_labels = pickle.load(open('preprocess_validation.p', mode='rb'))"
   ]
  },
  {
   "cell_type": "code",
   "execution_count": 7,
   "metadata": {},
   "outputs": [
    {
     "name": "stdout",
     "output_type": "stream",
     "text": [
      "(5000, 32, 32, 3)\n",
      "(5000, 10)\n"
     ]
    }
   ],
   "source": [
    "print(valid_features.shape)\n",
    "print(valid_labels.shape)"
   ]
  },
  {
   "cell_type": "markdown",
   "metadata": {},
   "source": [
    "## Build the network\n",
    "For the neural network, you'll build each layer into a function.  Most of the code you've seen has been outside of functions. To test your code more thoroughly, we require that you put each layer in a function.  This allows us to give you better feedback and test for simple mistakes using our unittests before you submit your project.\n",
    "\n",
    ">**Note:** If you're finding it hard to dedicate enough time for this course each week, we've provided a small shortcut to this part of the project. In the next couple of problems, you'll have the option to use classes from the [TensorFlow Layers](https://www.tensorflow.org/api_docs/python/tf/layers) or [TensorFlow Layers (contrib)](https://www.tensorflow.org/api_guides/python/contrib.layers) packages to build each layer, except the layers you build in the \"Convolutional and Max Pooling Layer\" section.  TF Layers is similar to Keras's and TFLearn's abstraction to layers, so it's easy to pickup.\n",
    "\n",
    ">However, if you would like to get the most out of this course, try to solve all the problems _without_ using anything from the TF Layers packages. You **can** still use classes from other packages that happen to have the same name as ones you find in TF Layers! For example, instead of using the TF Layers version of the `conv2d` class, [tf.layers.conv2d](https://www.tensorflow.org/api_docs/python/tf/layers/conv2d), you would want to use the TF Neural Network version of `conv2d`, [tf.nn.conv2d](https://www.tensorflow.org/api_docs/python/tf/nn/conv2d). \n",
    "\n",
    "Let's begin!\n",
    "\n",
    "### Input\n",
    "The neural network needs to read the image data, one-hot encoded labels, and dropout keep probability. Implement the following functions\n",
    "* Implement `neural_net_image_input`\n",
    " * Return a [TF Placeholder](https://www.tensorflow.org/api_docs/python/tf/placeholder)\n",
    " * Set the shape using `image_shape` with batch size set to `None`.\n",
    " * Name the TensorFlow placeholder \"x\" using the TensorFlow `name` parameter in the [TF Placeholder](https://www.tensorflow.org/api_docs/python/tf/placeholder).\n",
    "* Implement `neural_net_label_input`\n",
    " * Return a [TF Placeholder](https://www.tensorflow.org/api_docs/python/tf/placeholder)\n",
    " * Set the shape using `n_classes` with batch size set to `None`.\n",
    " * Name the TensorFlow placeholder \"y\" using the TensorFlow `name` parameter in the [TF Placeholder](https://www.tensorflow.org/api_docs/python/tf/placeholder).\n",
    "* Implement `neural_net_keep_prob_input`\n",
    " * Return a [TF Placeholder](https://www.tensorflow.org/api_docs/python/tf/placeholder) for dropout keep probability.\n",
    " * Name the TensorFlow placeholder \"keep_prob\" using the TensorFlow `name` parameter in the [TF Placeholder](https://www.tensorflow.org/api_docs/python/tf/placeholder).\n",
    "\n",
    "These names will be used at the end of the project to load your saved model.\n",
    "\n",
    "Note: `None` for shapes in TensorFlow allow for a dynamic size."
   ]
  },
  {
   "cell_type": "code",
   "execution_count": 8,
   "metadata": {},
   "outputs": [
    {
     "name": "stdout",
     "output_type": "stream",
     "text": [
      "Image Input Tests Passed.\n",
      "Label Input Tests Passed.\n",
      "Keep Prob Tests Passed.\n"
     ]
    }
   ],
   "source": [
    "import tensorflow as tf\n",
    "\n",
    "def neural_net_image_input(image_shape):\n",
    "    \"\"\"\n",
    "    Return a Tensor for a batch of image input\n",
    "    : image_shape: Shape of the images\n",
    "    : return: Tensor for image input.\n",
    "    \"\"\"\n",
    "    # TODO: Implement Function\n",
    "    return tf.placeholder(dtype=tf.float32,shape=(None, *image_shape),name=\"x\")\n",
    "\n",
    "\n",
    "def neural_net_label_input(n_classes):\n",
    "    \"\"\"\n",
    "    Return a Tensor for a batch of label input\n",
    "    : n_classes: Number of classes\n",
    "    : return: Tensor for label input.\n",
    "    \"\"\"\n",
    "    # TODO: Implement Function\n",
    "    return tf.placeholder(dtype=tf.float32,shape=(None,n_classes),name=\"y\")\n",
    "\n",
    "\n",
    "def neural_net_keep_prob_input():\n",
    "    \"\"\"\n",
    "    Return a Tensor for keep probability\n",
    "    : return: Tensor for keep probability.\n",
    "    \"\"\"\n",
    "    # TODO: Implement Function\n",
    "    return tf.placeholder(tf.float32,name=\"keep_prob\")\n",
    "\n",
    "\n",
    "\"\"\"\n",
    "DON'T MODIFY ANYTHING IN THIS CELL THAT IS BELOW THIS LINE\n",
    "\"\"\"\n",
    "tf.reset_default_graph()\n",
    "tests.test_nn_image_inputs(neural_net_image_input)\n",
    "tests.test_nn_label_inputs(neural_net_label_input)\n",
    "tests.test_nn_keep_prob_inputs(neural_net_keep_prob_input)"
   ]
  },
  {
   "cell_type": "markdown",
   "metadata": {},
   "source": [
    "### Convolution and Max Pooling Layer\n",
    "Convolution layers have a lot of success with images. For this code cell, you should implement the function `conv2d_maxpool` to apply convolution then max pooling:\n",
    "* Create the weight and bias using `conv_ksize`, `conv_num_outputs` and the shape of `x_tensor`.\n",
    "* Apply a convolution to `x_tensor` using weight and `conv_strides`.\n",
    " * We recommend you use same padding, but you're welcome to use any padding.\n",
    "* Add bias\n",
    "* Add a nonlinear activation to the convolution.\n",
    "* Apply Max Pooling using `pool_ksize` and `pool_strides`.\n",
    " * We recommend you use same padding, but you're welcome to use any padding.\n",
    "\n",
    "**Note:** You **can't** use [TensorFlow Layers](https://www.tensorflow.org/api_docs/python/tf/layers) or [TensorFlow Layers (contrib)](https://www.tensorflow.org/api_guides/python/contrib.layers) for **this** layer, but you can still use TensorFlow's [Neural Network](https://www.tensorflow.org/api_docs/python/tf/nn) package. You may still use the shortcut option for all the **other** layers."
   ]
  },
  {
   "cell_type": "code",
   "execution_count": 9,
   "metadata": {},
   "outputs": [
    {
     "name": "stdout",
     "output_type": "stream",
     "text": [
      "Tests Passed\n"
     ]
    }
   ],
   "source": [
    "def conv2d_maxpool(x_tensor, conv_num_outputs, conv_ksize, conv_strides, pool_ksize, pool_strides):\n",
    "    \"\"\"\n",
    "    Apply convolution then max pooling to x_tensor\n",
    "    :param x_tensor: TensorFlow Tensor\n",
    "    :param conv_num_outputs: Number of outputs for the convolutional layer\n",
    "    :param conv_ksize: kernal size 2-D Tuple for the convolutional layer\n",
    "    :param conv_strides: Stride 2-D Tuple for convolution\n",
    "    :param pool_ksize: kernal size 2-D Tuple for pool\n",
    "    :param pool_strides: Stride 2-D Tuple for pool\n",
    "    : return: A tensor that represents convolution and max pooling of x_tensor\n",
    "    \"\"\"\n",
    "    # TODO: Implement Function\n",
    "    weight = tf.Variable(tf.truncated_normal((*conv_ksize, x_tensor.get_shape().as_list()[-1],conv_num_outputs),stddev=0.1))\n",
    "    bias = tf.Variable(tf.zeros(conv_num_outputs))\n",
    "    conv = tf.nn.conv2d(input=x_tensor, filter=weight,strides=(1,*conv_strides,1),padding='SAME')\n",
    "    conv = tf.nn.bias_add(conv,bias)\n",
    "    conv = tf.nn.relu(conv)\n",
    "    pool= tf.nn.max_pool(value=conv,ksize=(1,*pool_ksize,1),strides=(1,*pool_strides,1),padding='SAME')\n",
    "    return pool\n",
    "\n",
    "\n",
    "\"\"\"\n",
    "DON'T MODIFY ANYTHING IN THIS CELL THAT IS BELOW THIS LINE\n",
    "\"\"\"\n",
    "tests.test_con_pool(conv2d_maxpool)"
   ]
  },
  {
   "cell_type": "markdown",
   "metadata": {},
   "source": [
    "### Flatten Layer\n",
    "Implement the `flatten` function to change the dimension of `x_tensor` from a 4-D tensor to a 2-D tensor.  The output should be the shape (*Batch Size*, *Flattened Image Size*). Shortcut option: you can use classes from the [TensorFlow Layers](https://www.tensorflow.org/api_docs/python/tf/layers) or [TensorFlow Layers (contrib)](https://www.tensorflow.org/api_guides/python/contrib.layers) packages for this layer. For more of a challenge, only use other TensorFlow packages."
   ]
  },
  {
   "cell_type": "code",
   "execution_count": 10,
   "metadata": {},
   "outputs": [
    {
     "name": "stdout",
     "output_type": "stream",
     "text": [
      "Tests Passed\n"
     ]
    }
   ],
   "source": [
    "def flatten(x_tensor):\n",
    "    \"\"\"\n",
    "    Flatten x_tensor to (Batch Size, Flattened Image Size)\n",
    "    : x_tensor: A tensor of size (Batch Size, ...), where ... are the image dimensions.\n",
    "    : return: A tensor of size (Batch Size, Flattened Image Size).\n",
    "    \"\"\"\n",
    "    # TODO: Implement Function\n",
    "    batch_size, *img_size = x_tensor.get_shape().as_list()\n",
    "    img_size = img_size[0] * img_size[1] * img_size[2]\n",
    "    return tf.reshape(x_tensor, (-1, img_size))\n",
    "\n",
    "\"\"\"\n",
    "DON'T MODIFY ANYTHING IN THIS CELL THAT IS BELOW THIS LINE\n",
    "\"\"\"\n",
    "tests.test_flatten(flatten)"
   ]
  },
  {
   "cell_type": "markdown",
   "metadata": {},
   "source": [
    "### Fully-Connected Layer\n",
    "Implement the `fully_conn` function to apply a fully connected layer to `x_tensor` with the shape (*Batch Size*, *num_outputs*). Shortcut option: you can use classes from the [TensorFlow Layers](https://www.tensorflow.org/api_docs/python/tf/layers) or [TensorFlow Layers (contrib)](https://www.tensorflow.org/api_guides/python/contrib.layers) packages for this layer. For more of a challenge, only use other TensorFlow packages."
   ]
  },
  {
   "cell_type": "code",
   "execution_count": 11,
   "metadata": {},
   "outputs": [
    {
     "name": "stdout",
     "output_type": "stream",
     "text": [
      "Tests Passed\n"
     ]
    }
   ],
   "source": [
    "def fully_conn(x_tensor, num_outputs):\n",
    "    \"\"\"\n",
    "    Apply a fully connected layer to x_tensor using weight and bias\n",
    "    : x_tensor: A 2-D tensor where the first dimension is batch size.\n",
    "    : num_outputs: The number of output that the new tensor should be.\n",
    "    : return: A 2-D tensor where the second dimension is num_outputs.\n",
    "    \"\"\"\n",
    "    # TODO: Implement Function\n",
    "    shape = x_tensor.get_shape().as_list()\n",
    "    weight = tf.Variable(tf.truncated_normal([shape[-1], num_outputs], stddev=0.1))\n",
    "    bias = tf.Variable(tf.zeros(num_outputs))\n",
    "    return tf.nn.relu(tf.add(tf.matmul(x_tensor, weight), bias))\n",
    "\n",
    "\n",
    "\"\"\"\n",
    "DON'T MODIFY ANYTHING IN THIS CELL THAT IS BELOW THIS LINE\n",
    "\"\"\"\n",
    "tests.test_fully_conn(fully_conn)"
   ]
  },
  {
   "cell_type": "markdown",
   "metadata": {},
   "source": [
    "### Output Layer\n",
    "Implement the `output` function to apply a fully connected layer to `x_tensor` with the shape (*Batch Size*, *num_outputs*). Shortcut option: you can use classes from the [TensorFlow Layers](https://www.tensorflow.org/api_docs/python/tf/layers) or [TensorFlow Layers (contrib)](https://www.tensorflow.org/api_guides/python/contrib.layers) packages for this layer. For more of a challenge, only use other TensorFlow packages.\n",
    "\n",
    "**Note:** Activation, softmax, or cross entropy should **not** be applied to this."
   ]
  },
  {
   "cell_type": "code",
   "execution_count": 12,
   "metadata": {},
   "outputs": [
    {
     "name": "stdout",
     "output_type": "stream",
     "text": [
      "Tests Passed\n"
     ]
    }
   ],
   "source": [
    "def output(x_tensor, num_outputs):\n",
    "    \"\"\"\n",
    "    Apply a output layer to x_tensor using weight and bias\n",
    "    : x_tensor: A 2-D tensor where the first dimension is batch size.\n",
    "    : num_outputs: The number of output that the new tensor should be.\n",
    "    : return: A 2-D tensor where the second dimension is num_outputs.\n",
    "    \"\"\"\n",
    "    # TODO: Implement Function\n",
    "    shape = x_tensor.get_shape().as_list()\n",
    "    weight = tf.Variable(tf.truncated_normal([shape[1],num_outputs],stddev=0.1))\n",
    "    bias = tf.Variable(tf.zeros(num_outputs))\n",
    "    return tf.nn.softmax(tf.add(tf.matmul(x_tensor, weight), bias))\n",
    "\n",
    "\n",
    "\"\"\"\n",
    "DON'T MODIFY ANYTHING IN THIS CELL THAT IS BELOW THIS LINE\n",
    "\"\"\"\n",
    "tests.test_output(output)"
   ]
  },
  {
   "cell_type": "markdown",
   "metadata": {},
   "source": [
    "### Create Convolutional Model\n",
    "Implement the function `conv_net` to create a convolutional neural network model. The function takes in a batch of images, `x`, and outputs logits.  Use the layers you created above to create this model:\n",
    "\n",
    "* Apply 1, 2, or 3 Convolution and Max Pool layers\n",
    "* Apply a Flatten Layer\n",
    "* Apply 1, 2, or 3 Fully Connected Layers\n",
    "* Apply an Output Layer\n",
    "* Return the output\n",
    "* Apply [TensorFlow's Dropout](https://www.tensorflow.org/api_docs/python/tf/nn/dropout) to one or more layers in the model using `keep_prob`. "
   ]
  },
  {
   "cell_type": "code",
   "execution_count": 13,
   "metadata": {},
   "outputs": [
    {
     "name": "stdout",
     "output_type": "stream",
     "text": [
      "Layer1: [None, 16, 16, 16]\n",
      "Layer2: [None, 4, 4, 64]\n",
      "Flatten: [None, 1024]\n",
      "Layer3: [None, 200]\n",
      "Layer4: [None, 50]\n",
      "Output: [None, 10]\n",
      "Layer1: [None, 16, 16, 16]\n",
      "Layer2: [None, 4, 4, 64]\n",
      "Flatten: [None, 1024]\n",
      "Layer3: [None, 200]\n",
      "Layer4: [None, 50]\n",
      "Output: [None, 10]\n",
      "Neural Network Built!\n"
     ]
    }
   ],
   "source": [
    "def conv_net(x, keep_prob):\n",
    "    \"\"\"\n",
    "    Create a convolutional neural network model\n",
    "    : x: Placeholder tensor that holds image data.\n",
    "    : keep_prob: Placeholder tensor that hold dropout keep probability.\n",
    "    : return: Tensor that represents logits\n",
    "    \"\"\"\n",
    "    # TODO: Apply 1, 2, or 3 Convolution and Max Pool layers\n",
    "    #    Play around with different number of outputs, kernel size and stride\n",
    "    # Function Definition from Above:\n",
    "    layer1 = conv2d_maxpool(x, conv_num_outputs=16, conv_ksize=(5,5), conv_strides=(1,1), pool_ksize=(3,3), pool_strides=(2,2))\n",
    "    print(\"Layer1: {}\".format(layer1.get_shape().as_list()))\n",
    "    \n",
    "    layer2 = conv2d_maxpool(layer1, conv_num_outputs=64, conv_ksize=(3,3), conv_strides=(2,2), pool_ksize=(3,3), pool_strides=(2,2))\n",
    "    print(\"Layer2: {}\".format(layer2.get_shape().as_list()))\n",
    "\n",
    "    # TODO: Apply a Flatten Layer\n",
    "    # Function Definition from Above:\n",
    "    flat = flatten(layer2)\n",
    "    print(\"Flatten: {}\".format(flat.get_shape().as_list()))\n",
    "\n",
    "    # TODO: Apply 1, 2, or 3 Fully Connected Layers\n",
    "    #    Play around with different number of outputs\n",
    "    # Function Definition from Above:\n",
    "    layer3 = fully_conn(flat, 200)\n",
    "    layer3 = tf.nn.dropout(layer3, keep_prob)\n",
    "    print(\"Layer3: {}\".format(layer3.get_shape().as_list()))\n",
    "    \n",
    "    layer4 = fully_conn(layer3, 50)\n",
    "    layer4 = tf.nn.dropout(layer4, keep_prob)\n",
    "    print(\"Layer4: {}\".format(layer4.get_shape().as_list()))\n",
    "    \n",
    "    # TODO: Apply an Output Layer\n",
    "    #    Set this to the number of classes\n",
    "    # Function Definition from Above:\n",
    "    y = output(layer4, 10)\n",
    "    print(\"Output: {}\".format(y.get_shape().as_list()))\n",
    "    \n",
    "    \n",
    "    # TODO: return output\n",
    "    return y\n",
    "\n",
    "\n",
    "\"\"\"\n",
    "DON'T MODIFY ANYTHING IN THIS CELL THAT IS BELOW THIS LINE\n",
    "\"\"\"\n",
    "\n",
    "##############################\n",
    "## Build the Neural Network ##\n",
    "##############################\n",
    "\n",
    "# Remove previous weights, bias, inputs, etc..\n",
    "tf.reset_default_graph()\n",
    "\n",
    "# Inputs\n",
    "x = neural_net_image_input((32, 32, 3))\n",
    "y = neural_net_label_input(10)\n",
    "keep_prob = neural_net_keep_prob_input()\n",
    "\n",
    "# Model\n",
    "logits = conv_net(x, keep_prob)\n",
    "\n",
    "# Name logits Tensor, so that is can be loaded from disk after training\n",
    "logits = tf.identity(logits, name='logits')\n",
    "\n",
    "# Loss and Optimizer\n",
    "cost = tf.reduce_mean(tf.nn.softmax_cross_entropy_with_logits(logits=logits, labels=y))\n",
    "optimizer = tf.train.AdamOptimizer().minimize(cost)\n",
    "\n",
    "# Accuracy\n",
    "correct_pred = tf.equal(tf.argmax(logits, 1), tf.argmax(y, 1))\n",
    "accuracy = tf.reduce_mean(tf.cast(correct_pred, tf.float32), name='accuracy')\n",
    "\n",
    "tests.test_conv_net(conv_net)"
   ]
  },
  {
   "cell_type": "markdown",
   "metadata": {},
   "source": [
    "## Train the Neural Network\n",
    "### Single Optimization\n",
    "Implement the function `train_neural_network` to do a single optimization.  The optimization should use `optimizer` to optimize in `session` with a `feed_dict` of the following:\n",
    "* `x` for image input\n",
    "* `y` for labels\n",
    "* `keep_prob` for keep probability for dropout\n",
    "\n",
    "This function will be called for each batch, so `tf.global_variables_initializer()` has already been called.\n",
    "\n",
    "Note: Nothing needs to be returned. This function is only optimizing the neural network."
   ]
  },
  {
   "cell_type": "code",
   "execution_count": 14,
   "metadata": {},
   "outputs": [
    {
     "name": "stdout",
     "output_type": "stream",
     "text": [
      "Tests Passed\n"
     ]
    }
   ],
   "source": [
    "def train_neural_network(session, optimizer, keep_probability, feature_batch, label_batch):\n",
    "    \"\"\"\n",
    "    Optimize the session on a batch of images and labels\n",
    "    : session: Current TensorFlow session\n",
    "    : optimizer: TensorFlow optimizer function\n",
    "    : keep_probability: keep probability\n",
    "    : feature_batch: Batch of Numpy image data\n",
    "    : label_batch: Batch of Numpy label data\n",
    "    \"\"\"\n",
    "    # TODO: Implement Function\n",
    "    session.run(optimizer,feed_dict={keep_prob:keep_probability, x:feature_batch, y:label_batch})\n",
    "\n",
    "\n",
    "\"\"\"\n",
    "DON'T MODIFY ANYTHING IN THIS CELL THAT IS BELOW THIS LINE\n",
    "\"\"\"\n",
    "tests.test_train_nn(train_neural_network)"
   ]
  },
  {
   "cell_type": "markdown",
   "metadata": {},
   "source": [
    "### Show Stats\n",
    "Implement the function `print_stats` to print loss and validation accuracy.  Use the global variables `valid_features` and `valid_labels` to calculate validation accuracy.  Use a keep probability of `1.0` to calculate the loss and validation accuracy."
   ]
  },
  {
   "cell_type": "code",
   "execution_count": 15,
   "metadata": {},
   "outputs": [],
   "source": [
    "def print_stats(session, feature_batch, label_batch, cost, accuracy):\n",
    "    \"\"\"\n",
    "    Print information about loss and validation accuracy\n",
    "    : session: Current TensorFlow session\n",
    "    : feature_batch: Batch of Numpy image data\n",
    "    : label_batch: Batch of Numpy label data\n",
    "    : cost: TensorFlow cost function\n",
    "    : accuracy: TensorFlow accuracy function\n",
    "    \"\"\"\n",
    "    # TODO: Implement Function\n",
    "    loss,acc = session.run([cost,accuracy], feed_dict={keep_prob:1, x:feature_batch, y:label_batch})\n",
    "    val_acc = session.run(accuracy,feed_dict={keep_prob:1, x:valid_features, y:valid_labels})\n",
    "    print(\"Loss = {}, acc = {}, Valid acc = {}\".format(loss,acc,val_acc))"
   ]
  },
  {
   "cell_type": "markdown",
   "metadata": {},
   "source": [
    "### Hyperparameters\n",
    "Tune the following parameters:\n",
    "* Set `epochs` to the number of iterations until the network stops learning or start overfitting\n",
    "* Set `batch_size` to the highest number that your machine has memory for.  Most people set them to common sizes of memory:\n",
    " * 64\n",
    " * 128\n",
    " * 256\n",
    " * ...\n",
    "* Set `keep_probability` to the probability of keeping a node using dropout"
   ]
  },
  {
   "cell_type": "code",
   "execution_count": 16,
   "metadata": {
    "collapsed": true
   },
   "outputs": [],
   "source": [
    "# TODO: Tune Parameters\n",
    "epochs =50\n",
    "batch_size = 256\n",
    "keep_probability = 0.5"
   ]
  },
  {
   "cell_type": "markdown",
   "metadata": {},
   "source": [
    "### Train on a Single CIFAR-10 Batch\n",
    "Instead of training the neural network on all the CIFAR-10 batches of data, let's use a single batch. This should save time while you iterate on the model to get a better accuracy.  Once the final validation accuracy is 50% or greater, run the model on all the data in the next section."
   ]
  },
  {
   "cell_type": "code",
   "execution_count": 17,
   "metadata": {},
   "outputs": [
    {
     "name": "stdout",
     "output_type": "stream",
     "text": [
      "Checking the Training on a Single Batch...\n",
      "Epoch  1, CIFAR-10 Batch 1:  Loss = 2.2793943881988525, acc = 0.2750000059604645, Valid acc = 0.21400000154972076\n",
      "Epoch  2, CIFAR-10 Batch 1:  Loss = 2.230372190475464, acc = 0.2750000059604645, Valid acc = 0.2639999985694885\n",
      "Epoch  3, CIFAR-10 Batch 1:  Loss = 2.2043962478637695, acc = 0.2750000059604645, Valid acc = 0.2856000065803528\n",
      "Epoch  4, CIFAR-10 Batch 1:  Loss = 2.2038824558258057, acc = 0.25, Valid acc = 0.3230000138282776\n",
      "Epoch  5, CIFAR-10 Batch 1:  Loss = 2.1869232654571533, acc = 0.25, Valid acc = 0.3343999981880188\n",
      "Epoch  6, CIFAR-10 Batch 1:  Loss = 2.1274333000183105, acc = 0.32499998807907104, Valid acc = 0.3158000111579895\n",
      "Epoch  7, CIFAR-10 Batch 1:  Loss = 2.130247116088867, acc = 0.3499999940395355, Valid acc = 0.3529999852180481\n",
      "Epoch  8, CIFAR-10 Batch 1:  Loss = 2.0513367652893066, acc = 0.42500001192092896, Valid acc = 0.3614000082015991\n",
      "Epoch  9, CIFAR-10 Batch 1:  Loss = 2.099231719970703, acc = 0.3499999940395355, Valid acc = 0.362199991941452\n",
      "Epoch 10, CIFAR-10 Batch 1:  Loss = 2.0054080486297607, acc = 0.4749999940395355, Valid acc = 0.37040001153945923\n",
      "Epoch 11, CIFAR-10 Batch 1:  Loss = 1.9828882217407227, acc = 0.5249999761581421, Valid acc = 0.37599998712539673\n",
      "Epoch 12, CIFAR-10 Batch 1:  Loss = 1.9855830669403076, acc = 0.44999998807907104, Valid acc = 0.3946000039577484\n",
      "Epoch 13, CIFAR-10 Batch 1:  Loss = 1.980391263961792, acc = 0.4749999940395355, Valid acc = 0.39660000801086426\n",
      "Epoch 14, CIFAR-10 Batch 1:  Loss = 1.9511134624481201, acc = 0.5, Valid acc = 0.4092000126838684\n",
      "Epoch 15, CIFAR-10 Batch 1:  Loss = 1.9317891597747803, acc = 0.5249999761581421, Valid acc = 0.39739999175071716\n",
      "Epoch 16, CIFAR-10 Batch 1:  Loss = 1.9153732061386108, acc = 0.550000011920929, Valid acc = 0.4212000072002411\n",
      "Epoch 17, CIFAR-10 Batch 1:  Loss = 1.917778730392456, acc = 0.550000011920929, Valid acc = 0.40639999508857727\n",
      "Epoch 18, CIFAR-10 Batch 1:  Loss = 1.9084625244140625, acc = 0.574999988079071, Valid acc = 0.4472000002861023\n",
      "Epoch 19, CIFAR-10 Batch 1:  Loss = 1.9040501117706299, acc = 0.550000011920929, Valid acc = 0.4309999942779541\n",
      "Epoch 20, CIFAR-10 Batch 1:  Loss = 1.8853346109390259, acc = 0.574999988079071, Valid acc = 0.44040000438690186\n",
      "Epoch 21, CIFAR-10 Batch 1:  Loss = 1.881278395652771, acc = 0.574999988079071, Valid acc = 0.44440001249313354\n",
      "Epoch 22, CIFAR-10 Batch 1:  Loss = 1.8882108926773071, acc = 0.574999988079071, Valid acc = 0.44279998540878296\n",
      "Epoch 23, CIFAR-10 Batch 1:  Loss = 1.8512332439422607, acc = 0.6000000238418579, Valid acc = 0.4596000015735626\n",
      "Epoch 24, CIFAR-10 Batch 1:  Loss = 1.857475996017456, acc = 0.6000000238418579, Valid acc = 0.4580000042915344\n",
      "Epoch 25, CIFAR-10 Batch 1:  Loss = 1.85934579372406, acc = 0.6000000238418579, Valid acc = 0.46000000834465027\n",
      "Epoch 26, CIFAR-10 Batch 1:  Loss = 1.8397951126098633, acc = 0.625, Valid acc = 0.48559999465942383\n",
      "Epoch 27, CIFAR-10 Batch 1:  Loss = 1.8332366943359375, acc = 0.625, Valid acc = 0.46799999475479126\n",
      "Epoch 28, CIFAR-10 Batch 1:  Loss = 1.8349826335906982, acc = 0.625, Valid acc = 0.4715999960899353\n",
      "Epoch 29, CIFAR-10 Batch 1:  Loss = 1.834170937538147, acc = 0.6499999761581421, Valid acc = 0.4763999879360199\n",
      "Epoch 30, CIFAR-10 Batch 1:  Loss = 1.817212700843811, acc = 0.6499999761581421, Valid acc = 0.4844000041484833\n",
      "Epoch 31, CIFAR-10 Batch 1:  Loss = 1.811815619468689, acc = 0.6499999761581421, Valid acc = 0.4984000027179718\n",
      "Epoch 32, CIFAR-10 Batch 1:  Loss = 1.8113439083099365, acc = 0.625, Valid acc = 0.4862000048160553\n",
      "Epoch 33, CIFAR-10 Batch 1:  Loss = 1.8046064376831055, acc = 0.675000011920929, Valid acc = 0.48919999599456787\n",
      "Epoch 34, CIFAR-10 Batch 1:  Loss = 1.7844337224960327, acc = 0.699999988079071, Valid acc = 0.506600022315979\n",
      "Epoch 35, CIFAR-10 Batch 1:  Loss = 1.8324577808380127, acc = 0.625, Valid acc = 0.4758000075817108\n",
      "Epoch 36, CIFAR-10 Batch 1:  Loss = 1.78520929813385, acc = 0.675000011920929, Valid acc = 0.5\n",
      "Epoch 37, CIFAR-10 Batch 1:  Loss = 1.7740755081176758, acc = 0.675000011920929, Valid acc = 0.5134000182151794\n",
      "Epoch 38, CIFAR-10 Batch 1:  Loss = 1.7802479267120361, acc = 0.675000011920929, Valid acc = 0.5121999979019165\n",
      "Epoch 39, CIFAR-10 Batch 1:  Loss = 1.7897255420684814, acc = 0.675000011920929, Valid acc = 0.506600022315979\n",
      "Epoch 40, CIFAR-10 Batch 1:  Loss = 1.7742633819580078, acc = 0.699999988079071, Valid acc = 0.5131999850273132\n",
      "Epoch 41, CIFAR-10 Batch 1:  Loss = 1.7664810419082642, acc = 0.699999988079071, Valid acc = 0.5152000188827515\n",
      "Epoch 42, CIFAR-10 Batch 1:  Loss = 1.7919918298721313, acc = 0.699999988079071, Valid acc = 0.5019999742507935\n",
      "Epoch 43, CIFAR-10 Batch 1:  Loss = 1.756858468055725, acc = 0.7250000238418579, Valid acc = 0.520799994468689\n",
      "Epoch 44, CIFAR-10 Batch 1:  Loss = 1.758469581604004, acc = 0.699999988079071, Valid acc = 0.5230000019073486\n",
      "Epoch 45, CIFAR-10 Batch 1:  Loss = 1.7428081035614014, acc = 0.7250000238418579, Valid acc = 0.5120000243186951\n",
      "Epoch 46, CIFAR-10 Batch 1:  Loss = 1.7555217742919922, acc = 0.699999988079071, Valid acc = 0.5315999984741211\n",
      "Epoch 47, CIFAR-10 Batch 1:  Loss = 1.7586853504180908, acc = 0.7250000238418579, Valid acc = 0.5134000182151794\n",
      "Epoch 48, CIFAR-10 Batch 1:  Loss = 1.7426950931549072, acc = 0.7250000238418579, Valid acc = 0.5342000126838684\n",
      "Epoch 49, CIFAR-10 Batch 1:  Loss = 1.7475922107696533, acc = 0.7250000238418579, Valid acc = 0.503600001335144\n",
      "Epoch 50, CIFAR-10 Batch 1:  Loss = 1.7535756826400757, acc = 0.699999988079071, Valid acc = 0.5288000106811523\n"
     ]
    }
   ],
   "source": [
    "\"\"\"\n",
    "DON'T MODIFY ANYTHING IN THIS CELL\n",
    "\"\"\"\n",
    "print('Checking the Training on a Single Batch...')\n",
    "with tf.Session() as sess:\n",
    "    # Initializing the variables\n",
    "    sess.run(tf.global_variables_initializer())\n",
    "    \n",
    "    # Training cycle\n",
    "    for epoch in range(epochs):\n",
    "        batch_i = 1\n",
    "        for batch_features, batch_labels in helper.load_preprocess_training_batch(batch_i, batch_size):\n",
    "            train_neural_network(sess, optimizer, keep_probability, batch_features, batch_labels)\n",
    "        print('Epoch {:>2}, CIFAR-10 Batch {}:  '.format(epoch + 1, batch_i), end='')\n",
    "        print_stats(sess, batch_features, batch_labels, cost, accuracy)"
   ]
  },
  {
   "cell_type": "markdown",
   "metadata": {},
   "source": [
    "### Fully Train the Model\n",
    "Now that you got a good accuracy with a single CIFAR-10 batch, try it with all five batches."
   ]
  },
  {
   "cell_type": "code",
   "execution_count": 18,
   "metadata": {},
   "outputs": [
    {
     "name": "stdout",
     "output_type": "stream",
     "text": [
      "Training...\n",
      "Epoch  1, CIFAR-10 Batch 1:  Loss = 2.283552646636963, acc = 0.17499999701976776, Valid acc = 0.16279999911785126\n",
      "Epoch  1, CIFAR-10 Batch 2:  Loss = 2.2027251720428467, acc = 0.3499999940395355, Valid acc = 0.27480000257492065\n",
      "Epoch  1, CIFAR-10 Batch 3:  Loss = 2.155951976776123, acc = 0.375, Valid acc = 0.2824000120162964\n",
      "Epoch  1, CIFAR-10 Batch 4:  Loss = 2.138720750808716, acc = 0.30000001192092896, Valid acc = 0.33899998664855957\n",
      "Epoch  1, CIFAR-10 Batch 5:  Loss = 2.0788276195526123, acc = 0.44999998807907104, Valid acc = 0.3716000020503998\n",
      "Epoch  2, CIFAR-10 Batch 1:  Loss = 2.1515707969665527, acc = 0.30000001192092896, Valid acc = 0.38040000200271606\n",
      "Epoch  2, CIFAR-10 Batch 2:  Loss = 2.0597150325775146, acc = 0.42500001192092896, Valid acc = 0.3901999890804291\n",
      "Epoch  2, CIFAR-10 Batch 3:  Loss = 1.9846245050430298, acc = 0.4749999940395355, Valid acc = 0.39160001277923584\n",
      "Epoch  2, CIFAR-10 Batch 4:  Loss = 2.0726451873779297, acc = 0.375, Valid acc = 0.40560001134872437\n",
      "Epoch  2, CIFAR-10 Batch 5:  Loss = 2.0365099906921387, acc = 0.42500001192092896, Valid acc = 0.4174000024795532\n",
      "Epoch  3, CIFAR-10 Batch 1:  Loss = 2.150238037109375, acc = 0.30000001192092896, Valid acc = 0.42579999566078186\n",
      "Epoch  3, CIFAR-10 Batch 2:  Loss = 2.0174145698547363, acc = 0.44999998807907104, Valid acc = 0.420199990272522\n",
      "Epoch  3, CIFAR-10 Batch 3:  Loss = 1.916690468788147, acc = 0.550000011920929, Valid acc = 0.43459999561309814\n",
      "Epoch  3, CIFAR-10 Batch 4:  Loss = 2.058049201965332, acc = 0.4000000059604645, Valid acc = 0.4359999895095825\n",
      "Epoch  3, CIFAR-10 Batch 5:  Loss = 2.0656392574310303, acc = 0.375, Valid acc = 0.43479999899864197\n",
      "Epoch  4, CIFAR-10 Batch 1:  Loss = 2.014653205871582, acc = 0.4749999940395355, Valid acc = 0.4472000002861023\n",
      "Epoch  4, CIFAR-10 Batch 2:  Loss = 1.9836580753326416, acc = 0.4749999940395355, Valid acc = 0.4334000051021576\n",
      "Epoch  4, CIFAR-10 Batch 3:  Loss = 1.8843024969100952, acc = 0.574999988079071, Valid acc = 0.4537999927997589\n",
      "Epoch  4, CIFAR-10 Batch 4:  Loss = 2.06986665725708, acc = 0.375, Valid acc = 0.4560000002384186\n",
      "Epoch  4, CIFAR-10 Batch 5:  Loss = 2.050621509552002, acc = 0.42500001192092896, Valid acc = 0.4341999888420105\n",
      "Epoch  5, CIFAR-10 Batch 1:  Loss = 1.9957393407821655, acc = 0.44999998807907104, Valid acc = 0.4449999928474426\n",
      "Epoch  5, CIFAR-10 Batch 2:  Loss = 1.973668098449707, acc = 0.4749999940395355, Valid acc = 0.4602000117301941\n",
      "Epoch  5, CIFAR-10 Batch 3:  Loss = 1.833740472793579, acc = 0.625, Valid acc = 0.4733999967575073\n",
      "Epoch  5, CIFAR-10 Batch 4:  Loss = 2.033231735229492, acc = 0.4000000059604645, Valid acc = 0.47780001163482666\n",
      "Epoch  5, CIFAR-10 Batch 5:  Loss = 1.9754352569580078, acc = 0.5249999761581421, Valid acc = 0.46000000834465027\n",
      "Epoch  6, CIFAR-10 Batch 1:  Loss = 1.9517357349395752, acc = 0.550000011920929, Valid acc = 0.48260000348091125\n",
      "Epoch  6, CIFAR-10 Batch 2:  Loss = 1.9397977590560913, acc = 0.550000011920929, Valid acc = 0.49459999799728394\n",
      "Epoch  6, CIFAR-10 Batch 3:  Loss = 1.8009669780731201, acc = 0.625, Valid acc = 0.4918000102043152\n",
      "Epoch  6, CIFAR-10 Batch 4:  Loss = 2.0652992725372314, acc = 0.3499999940395355, Valid acc = 0.48559999465942383\n",
      "Epoch  6, CIFAR-10 Batch 5:  Loss = 1.9364162683486938, acc = 0.550000011920929, Valid acc = 0.498199999332428\n",
      "Epoch  7, CIFAR-10 Batch 1:  Loss = 1.9601409435272217, acc = 0.44999998807907104, Valid acc = 0.5134000182151794\n",
      "Epoch  7, CIFAR-10 Batch 2:  Loss = 1.8885867595672607, acc = 0.6000000238418579, Valid acc = 0.4893999993801117\n",
      "Epoch  7, CIFAR-10 Batch 3:  Loss = 1.7770084142684937, acc = 0.699999988079071, Valid acc = 0.5108000040054321\n",
      "Epoch  7, CIFAR-10 Batch 4:  Loss = 1.9651832580566406, acc = 0.5, Valid acc = 0.5116000175476074\n",
      "Epoch  7, CIFAR-10 Batch 5:  Loss = 1.8825511932373047, acc = 0.625, Valid acc = 0.5131999850273132\n",
      "Epoch  8, CIFAR-10 Batch 1:  Loss = 1.957808256149292, acc = 0.4749999940395355, Valid acc = 0.5120000243186951\n",
      "Epoch  8, CIFAR-10 Batch 2:  Loss = 1.919094443321228, acc = 0.550000011920929, Valid acc = 0.5034000277519226\n",
      "Epoch  8, CIFAR-10 Batch 3:  Loss = 1.7409279346466064, acc = 0.7749999761581421, Valid acc = 0.5188000202178955\n",
      "Epoch  8, CIFAR-10 Batch 4:  Loss = 1.948761224746704, acc = 0.5, Valid acc = 0.5105999708175659\n",
      "Epoch  8, CIFAR-10 Batch 5:  Loss = 1.8576576709747314, acc = 0.625, Valid acc = 0.5266000032424927\n",
      "Epoch  9, CIFAR-10 Batch 1:  Loss = 1.9347121715545654, acc = 0.5249999761581421, Valid acc = 0.5299999713897705\n",
      "Epoch  9, CIFAR-10 Batch 2:  Loss = 1.8825416564941406, acc = 0.574999988079071, Valid acc = 0.5206000208854675\n",
      "Epoch  9, CIFAR-10 Batch 3:  Loss = 1.691244125366211, acc = 0.824999988079071, Valid acc = 0.5424000024795532\n",
      "Epoch  9, CIFAR-10 Batch 4:  Loss = 1.8871504068374634, acc = 0.550000011920929, Valid acc = 0.5454000234603882\n",
      "Epoch  9, CIFAR-10 Batch 5:  Loss = 1.8401615619659424, acc = 0.6499999761581421, Valid acc = 0.522599995136261\n",
      "Epoch 10, CIFAR-10 Batch 1:  Loss = 1.9728806018829346, acc = 0.5, Valid acc = 0.498199999332428\n",
      "Epoch 10, CIFAR-10 Batch 2:  Loss = 1.9378025531768799, acc = 0.5, Valid acc = 0.5347999930381775\n",
      "Epoch 10, CIFAR-10 Batch 3:  Loss = 1.6733661890029907, acc = 0.824999988079071, Valid acc = 0.5455999970436096\n",
      "Epoch 10, CIFAR-10 Batch 4:  Loss = 1.8846523761749268, acc = 0.550000011920929, Valid acc = 0.5468000173568726\n",
      "Epoch 10, CIFAR-10 Batch 5:  Loss = 1.861649751663208, acc = 0.6000000238418579, Valid acc = 0.5307999849319458\n",
      "Epoch 11, CIFAR-10 Batch 1:  Loss = 1.936018705368042, acc = 0.5249999761581421, Valid acc = 0.5515999794006348\n",
      "Epoch 11, CIFAR-10 Batch 2:  Loss = 1.9212582111358643, acc = 0.5249999761581421, Valid acc = 0.5475999712944031\n",
      "Epoch 11, CIFAR-10 Batch 3:  Loss = 1.7025588750839233, acc = 0.7749999761581421, Valid acc = 0.5447999835014343\n",
      "Epoch 11, CIFAR-10 Batch 4:  Loss = 1.888464331626892, acc = 0.550000011920929, Valid acc = 0.5361999869346619\n",
      "Epoch 11, CIFAR-10 Batch 5:  Loss = 1.7711029052734375, acc = 0.699999988079071, Valid acc = 0.5604000091552734\n",
      "Epoch 12, CIFAR-10 Batch 1:  Loss = 1.9457180500030518, acc = 0.5249999761581421, Valid acc = 0.5605999827384949\n",
      "Epoch 12, CIFAR-10 Batch 2:  Loss = 1.8719017505645752, acc = 0.550000011920929, Valid acc = 0.5547999739646912\n",
      "Epoch 12, CIFAR-10 Batch 3:  Loss = 1.6658931970596313, acc = 0.800000011920929, Valid acc = 0.5663999915122986\n",
      "Epoch 12, CIFAR-10 Batch 4:  Loss = 1.8577674627304077, acc = 0.6000000238418579, Valid acc = 0.5568000078201294\n",
      "Epoch 12, CIFAR-10 Batch 5:  Loss = 1.8048522472381592, acc = 0.6499999761581421, Valid acc = 0.5601999759674072\n",
      "Epoch 13, CIFAR-10 Batch 1:  Loss = 1.9235498905181885, acc = 0.5249999761581421, Valid acc = 0.5598000288009644\n",
      "Epoch 13, CIFAR-10 Batch 2:  Loss = 1.8610639572143555, acc = 0.625, Valid acc = 0.5640000104904175\n",
      "Epoch 13, CIFAR-10 Batch 3:  Loss = 1.6459925174713135, acc = 0.8500000238418579, Valid acc = 0.5722000002861023\n",
      "Epoch 13, CIFAR-10 Batch 4:  Loss = 1.8030502796173096, acc = 0.675000011920929, Valid acc = 0.5601999759674072\n",
      "Epoch 13, CIFAR-10 Batch 5:  Loss = 1.802342176437378, acc = 0.6499999761581421, Valid acc = 0.5558000206947327\n",
      "Epoch 14, CIFAR-10 Batch 1:  Loss = 1.9162670373916626, acc = 0.550000011920929, Valid acc = 0.5058000087738037\n",
      "Epoch 14, CIFAR-10 Batch 2:  Loss = 1.8808414936065674, acc = 0.550000011920929, Valid acc = 0.571399986743927\n",
      "Epoch 14, CIFAR-10 Batch 3:  Loss = 1.682024598121643, acc = 0.7749999761581421, Valid acc = 0.5795999765396118\n",
      "Epoch 14, CIFAR-10 Batch 4:  Loss = 1.7961406707763672, acc = 0.675000011920929, Valid acc = 0.5703999996185303\n",
      "Epoch 14, CIFAR-10 Batch 5:  Loss = 1.7780368328094482, acc = 0.675000011920929, Valid acc = 0.5684000253677368\n",
      "Epoch 15, CIFAR-10 Batch 1:  Loss = 1.8675298690795898, acc = 0.6000000238418579, Valid acc = 0.5748000144958496\n",
      "Epoch 15, CIFAR-10 Batch 2:  Loss = 1.7891952991485596, acc = 0.675000011920929, Valid acc = 0.5716000199317932\n",
      "Epoch 15, CIFAR-10 Batch 3:  Loss = 1.6617892980575562, acc = 0.800000011920929, Valid acc = 0.5817999839782715\n",
      "Epoch 15, CIFAR-10 Batch 4:  Loss = 1.7364044189453125, acc = 0.7250000238418579, Valid acc = 0.5856000185012817\n"
     ]
    },
    {
     "name": "stdout",
     "output_type": "stream",
     "text": [
      "Epoch 15, CIFAR-10 Batch 5:  Loss = 1.7639058828353882, acc = 0.675000011920929, Valid acc = 0.5842000246047974\n",
      "Epoch 16, CIFAR-10 Batch 1:  Loss = 1.885297417640686, acc = 0.574999988079071, Valid acc = 0.5928000211715698\n",
      "Epoch 16, CIFAR-10 Batch 2:  Loss = 1.8387340307235718, acc = 0.625, Valid acc = 0.5691999793052673\n",
      "Epoch 16, CIFAR-10 Batch 3:  Loss = 1.62323796749115, acc = 0.8500000238418579, Valid acc = 0.5874000191688538\n",
      "Epoch 16, CIFAR-10 Batch 4:  Loss = 1.7697738409042358, acc = 0.675000011920929, Valid acc = 0.5806000232696533\n",
      "Epoch 16, CIFAR-10 Batch 5:  Loss = 1.7168041467666626, acc = 0.75, Valid acc = 0.598800003528595\n",
      "Epoch 17, CIFAR-10 Batch 1:  Loss = 1.853563666343689, acc = 0.625, Valid acc = 0.590399980545044\n",
      "Epoch 17, CIFAR-10 Batch 2:  Loss = 1.8346999883651733, acc = 0.6000000238418579, Valid acc = 0.5666000247001648\n",
      "Epoch 17, CIFAR-10 Batch 3:  Loss = 1.6348917484283447, acc = 0.8500000238418579, Valid acc = 0.5849999785423279\n",
      "Epoch 17, CIFAR-10 Batch 4:  Loss = 1.7416871786117554, acc = 0.7250000238418579, Valid acc = 0.5943999886512756\n",
      "Epoch 17, CIFAR-10 Batch 5:  Loss = 1.7610145807266235, acc = 0.699999988079071, Valid acc = 0.598800003528595\n",
      "Epoch 18, CIFAR-10 Batch 1:  Loss = 1.8478138446807861, acc = 0.6000000238418579, Valid acc = 0.6014000177383423\n",
      "Epoch 18, CIFAR-10 Batch 2:  Loss = 1.816846489906311, acc = 0.675000011920929, Valid acc = 0.5881999731063843\n",
      "Epoch 18, CIFAR-10 Batch 3:  Loss = 1.632582426071167, acc = 0.8500000238418579, Valid acc = 0.6015999913215637\n",
      "Epoch 18, CIFAR-10 Batch 4:  Loss = 1.7197120189666748, acc = 0.75, Valid acc = 0.59579998254776\n",
      "Epoch 18, CIFAR-10 Batch 5:  Loss = 1.7870124578475952, acc = 0.699999988079071, Valid acc = 0.600600004196167\n",
      "Epoch 19, CIFAR-10 Batch 1:  Loss = 1.8052314519882202, acc = 0.6499999761581421, Valid acc = 0.6021999716758728\n",
      "Epoch 19, CIFAR-10 Batch 2:  Loss = 1.7835731506347656, acc = 0.699999988079071, Valid acc = 0.5856000185012817\n",
      "Epoch 19, CIFAR-10 Batch 3:  Loss = 1.6629136800765991, acc = 0.800000011920929, Valid acc = 0.6055999994277954\n",
      "Epoch 19, CIFAR-10 Batch 4:  Loss = 1.6984014511108398, acc = 0.75, Valid acc = 0.6043999791145325\n",
      "Epoch 19, CIFAR-10 Batch 5:  Loss = 1.6918785572052002, acc = 0.7749999761581421, Valid acc = 0.6050000190734863\n",
      "Epoch 20, CIFAR-10 Batch 1:  Loss = 1.8063957691192627, acc = 0.6499999761581421, Valid acc = 0.5989999771118164\n",
      "Epoch 20, CIFAR-10 Batch 2:  Loss = 1.7984167337417603, acc = 0.675000011920929, Valid acc = 0.5925999879837036\n",
      "Epoch 20, CIFAR-10 Batch 3:  Loss = 1.601012945175171, acc = 0.875, Valid acc = 0.6069999933242798\n",
      "Epoch 20, CIFAR-10 Batch 4:  Loss = 1.6744312047958374, acc = 0.800000011920929, Valid acc = 0.6064000129699707\n",
      "Epoch 20, CIFAR-10 Batch 5:  Loss = 1.7116069793701172, acc = 0.75, Valid acc = 0.5997999906539917\n",
      "Epoch 21, CIFAR-10 Batch 1:  Loss = 1.8155663013458252, acc = 0.6499999761581421, Valid acc = 0.6069999933242798\n",
      "Epoch 21, CIFAR-10 Batch 2:  Loss = 1.7701091766357422, acc = 0.699999988079071, Valid acc = 0.5907999873161316\n",
      "Epoch 21, CIFAR-10 Batch 3:  Loss = 1.6312992572784424, acc = 0.800000011920929, Valid acc = 0.6065999865531921\n",
      "Epoch 21, CIFAR-10 Batch 4:  Loss = 1.725714087486267, acc = 0.7250000238418579, Valid acc = 0.599399983882904\n",
      "Epoch 21, CIFAR-10 Batch 5:  Loss = 1.7078611850738525, acc = 0.75, Valid acc = 0.6133999824523926\n",
      "Epoch 22, CIFAR-10 Batch 1:  Loss = 1.7829967737197876, acc = 0.675000011920929, Valid acc = 0.621999979019165\n",
      "Epoch 22, CIFAR-10 Batch 2:  Loss = 1.7007019519805908, acc = 0.7749999761581421, Valid acc = 0.6154000163078308\n",
      "Epoch 22, CIFAR-10 Batch 3:  Loss = 1.603846788406372, acc = 0.875, Valid acc = 0.6230000257492065\n",
      "Epoch 22, CIFAR-10 Batch 4:  Loss = 1.7435932159423828, acc = 0.7250000238418579, Valid acc = 0.6069999933242798\n",
      "Epoch 22, CIFAR-10 Batch 5:  Loss = 1.6969867944717407, acc = 0.75, Valid acc = 0.6290000081062317\n",
      "Epoch 23, CIFAR-10 Batch 1:  Loss = 1.7706525325775146, acc = 0.699999988079071, Valid acc = 0.614799976348877\n",
      "Epoch 23, CIFAR-10 Batch 2:  Loss = 1.7548801898956299, acc = 0.699999988079071, Valid acc = 0.6126000285148621\n",
      "Epoch 23, CIFAR-10 Batch 3:  Loss = 1.5898206233978271, acc = 0.875, Valid acc = 0.6146000027656555\n",
      "Epoch 23, CIFAR-10 Batch 4:  Loss = 1.7228511571884155, acc = 0.75, Valid acc = 0.6115999817848206\n",
      "Epoch 23, CIFAR-10 Batch 5:  Loss = 1.6856359243392944, acc = 0.7749999761581421, Valid acc = 0.621999979019165\n",
      "Epoch 24, CIFAR-10 Batch 1:  Loss = 1.787594199180603, acc = 0.6499999761581421, Valid acc = 0.5996000170707703\n",
      "Epoch 24, CIFAR-10 Batch 2:  Loss = 1.708062767982483, acc = 0.7749999761581421, Valid acc = 0.6254000067710876\n",
      "Epoch 24, CIFAR-10 Batch 3:  Loss = 1.6493393182754517, acc = 0.800000011920929, Valid acc = 0.6140000224113464\n",
      "Epoch 24, CIFAR-10 Batch 4:  Loss = 1.6692336797714233, acc = 0.800000011920929, Valid acc = 0.623199999332428\n",
      "Epoch 24, CIFAR-10 Batch 5:  Loss = 1.6695998907089233, acc = 0.824999988079071, Valid acc = 0.6191999912261963\n",
      "Epoch 25, CIFAR-10 Batch 1:  Loss = 1.761946678161621, acc = 0.699999988079071, Valid acc = 0.6186000108718872\n",
      "Epoch 25, CIFAR-10 Batch 2:  Loss = 1.7265663146972656, acc = 0.75, Valid acc = 0.6144000291824341\n",
      "Epoch 25, CIFAR-10 Batch 3:  Loss = 1.607985496520996, acc = 0.8500000238418579, Valid acc = 0.6309999823570251\n",
      "Epoch 25, CIFAR-10 Batch 4:  Loss = 1.6982319355010986, acc = 0.75, Valid acc = 0.6240000128746033\n",
      "Epoch 25, CIFAR-10 Batch 5:  Loss = 1.697378158569336, acc = 0.75, Valid acc = 0.6241999864578247\n",
      "Epoch 26, CIFAR-10 Batch 1:  Loss = 1.715040922164917, acc = 0.75, Valid acc = 0.6122000217437744\n",
      "Epoch 26, CIFAR-10 Batch 2:  Loss = 1.7023096084594727, acc = 0.75, Valid acc = 0.6373999714851379\n",
      "Epoch 26, CIFAR-10 Batch 3:  Loss = 1.6025680303573608, acc = 0.8500000238418579, Valid acc = 0.6403999924659729\n",
      "Epoch 26, CIFAR-10 Batch 4:  Loss = 1.6950935125350952, acc = 0.7749999761581421, Valid acc = 0.6236000061035156\n",
      "Epoch 26, CIFAR-10 Batch 5:  Loss = 1.6594245433807373, acc = 0.800000011920929, Valid acc = 0.6355999708175659\n",
      "Epoch 27, CIFAR-10 Batch 1:  Loss = 1.7598133087158203, acc = 0.699999988079071, Valid acc = 0.6266000270843506\n",
      "Epoch 27, CIFAR-10 Batch 2:  Loss = 1.708717942237854, acc = 0.75, Valid acc = 0.6194000244140625\n",
      "Epoch 27, CIFAR-10 Batch 3:  Loss = 1.6160262823104858, acc = 0.824999988079071, Valid acc = 0.6367999911308289\n",
      "Epoch 27, CIFAR-10 Batch 4:  Loss = 1.6767349243164062, acc = 0.7749999761581421, Valid acc = 0.6331999897956848\n",
      "Epoch 27, CIFAR-10 Batch 5:  Loss = 1.72134268283844, acc = 0.75, Valid acc = 0.6241999864578247\n",
      "Epoch 28, CIFAR-10 Batch 1:  Loss = 1.7583599090576172, acc = 0.699999988079071, Valid acc = 0.6305999755859375\n",
      "Epoch 28, CIFAR-10 Batch 2:  Loss = 1.6937897205352783, acc = 0.75, Valid acc = 0.6359999775886536\n",
      "Epoch 28, CIFAR-10 Batch 3:  Loss = 1.6668230295181274, acc = 0.7749999761581421, Valid acc = 0.6248000264167786\n",
      "Epoch 28, CIFAR-10 Batch 4:  Loss = 1.704334020614624, acc = 0.7749999761581421, Valid acc = 0.6331999897956848\n",
      "Epoch 28, CIFAR-10 Batch 5:  Loss = 1.6614898443222046, acc = 0.7749999761581421, Valid acc = 0.6385999917984009\n",
      "Epoch 29, CIFAR-10 Batch 1:  Loss = 1.7376792430877686, acc = 0.7250000238418579, Valid acc = 0.6398000121116638\n",
      "Epoch 29, CIFAR-10 Batch 2:  Loss = 1.648392677307129, acc = 0.8500000238418579, Valid acc = 0.6262000203132629\n",
      "Epoch 29, CIFAR-10 Batch 3:  Loss = 1.6062686443328857, acc = 0.8500000238418579, Valid acc = 0.6353999972343445\n",
      "Epoch 29, CIFAR-10 Batch 4:  Loss = 1.6716318130493164, acc = 0.800000011920929, Valid acc = 0.6186000108718872\n",
      "Epoch 29, CIFAR-10 Batch 5:  Loss = 1.6151424646377563, acc = 0.8500000238418579, Valid acc = 0.6295999884605408\n",
      "Epoch 30, CIFAR-10 Batch 1:  Loss = 1.7694648504257202, acc = 0.675000011920929, Valid acc = 0.6338000297546387\n",
      "Epoch 30, CIFAR-10 Batch 2:  Loss = 1.714813232421875, acc = 0.75, Valid acc = 0.6362000107765198\n",
      "Epoch 30, CIFAR-10 Batch 3:  Loss = 1.6168543100357056, acc = 0.824999988079071, Valid acc = 0.631600022315979\n",
      "Epoch 30, CIFAR-10 Batch 4:  Loss = 1.7046416997909546, acc = 0.7749999761581421, Valid acc = 0.6453999876976013\n"
     ]
    },
    {
     "name": "stdout",
     "output_type": "stream",
     "text": [
      "Epoch 30, CIFAR-10 Batch 5:  Loss = 1.6367820501327515, acc = 0.824999988079071, Valid acc = 0.6421999931335449\n",
      "Epoch 31, CIFAR-10 Batch 1:  Loss = 1.7379004955291748, acc = 0.7250000238418579, Valid acc = 0.6413999795913696\n",
      "Epoch 31, CIFAR-10 Batch 2:  Loss = 1.6411612033843994, acc = 0.824999988079071, Valid acc = 0.6485999822616577\n",
      "Epoch 31, CIFAR-10 Batch 3:  Loss = 1.5806853771209717, acc = 0.8999999761581421, Valid acc = 0.6330000162124634\n",
      "Epoch 31, CIFAR-10 Batch 4:  Loss = 1.6526241302490234, acc = 0.800000011920929, Valid acc = 0.6406000256538391\n",
      "Epoch 31, CIFAR-10 Batch 5:  Loss = 1.6129834651947021, acc = 0.8500000238418579, Valid acc = 0.6510000228881836\n",
      "Epoch 32, CIFAR-10 Batch 1:  Loss = 1.7692943811416626, acc = 0.699999988079071, Valid acc = 0.6079999804496765\n",
      "Epoch 32, CIFAR-10 Batch 2:  Loss = 1.7278715372085571, acc = 0.7250000238418579, Valid acc = 0.6251999735832214\n",
      "Epoch 32, CIFAR-10 Batch 3:  Loss = 1.5689383745193481, acc = 0.8999999761581421, Valid acc = 0.6449999809265137\n",
      "Epoch 32, CIFAR-10 Batch 4:  Loss = 1.6732794046401978, acc = 0.7749999761581421, Valid acc = 0.6467999815940857\n",
      "Epoch 32, CIFAR-10 Batch 5:  Loss = 1.5900719165802002, acc = 0.875, Valid acc = 0.6507999897003174\n",
      "Epoch 33, CIFAR-10 Batch 1:  Loss = 1.7010433673858643, acc = 0.75, Valid acc = 0.6478000283241272\n",
      "Epoch 33, CIFAR-10 Batch 2:  Loss = 1.6678720712661743, acc = 0.7749999761581421, Valid acc = 0.6481999754905701\n",
      "Epoch 33, CIFAR-10 Batch 3:  Loss = 1.6123008728027344, acc = 0.8500000238418579, Valid acc = 0.6406000256538391\n",
      "Epoch 33, CIFAR-10 Batch 4:  Loss = 1.626140832901001, acc = 0.824999988079071, Valid acc = 0.6478000283241272\n",
      "Epoch 33, CIFAR-10 Batch 5:  Loss = 1.5911891460418701, acc = 0.875, Valid acc = 0.6431999802589417\n",
      "Epoch 34, CIFAR-10 Batch 1:  Loss = 1.7296056747436523, acc = 0.7250000238418579, Valid acc = 0.6507999897003174\n",
      "Epoch 34, CIFAR-10 Batch 2:  Loss = 1.6330150365829468, acc = 0.8500000238418579, Valid acc = 0.6474000215530396\n",
      "Epoch 34, CIFAR-10 Batch 3:  Loss = 1.5697882175445557, acc = 0.8999999761581421, Valid acc = 0.6547999978065491\n",
      "Epoch 34, CIFAR-10 Batch 4:  Loss = 1.6261450052261353, acc = 0.824999988079071, Valid acc = 0.65420001745224\n",
      "Epoch 34, CIFAR-10 Batch 5:  Loss = 1.5866882801055908, acc = 0.875, Valid acc = 0.652999997138977\n",
      "Epoch 35, CIFAR-10 Batch 1:  Loss = 1.667162537574768, acc = 0.800000011920929, Valid acc = 0.6502000093460083\n",
      "Epoch 35, CIFAR-10 Batch 2:  Loss = 1.6964458227157593, acc = 0.75, Valid acc = 0.6373999714851379\n",
      "Epoch 35, CIFAR-10 Batch 3:  Loss = 1.593562364578247, acc = 0.8500000238418579, Valid acc = 0.6389999985694885\n",
      "Epoch 35, CIFAR-10 Batch 4:  Loss = 1.6198917627334595, acc = 0.8500000238418579, Valid acc = 0.6222000122070312\n",
      "Epoch 35, CIFAR-10 Batch 5:  Loss = 1.6321722269058228, acc = 0.824999988079071, Valid acc = 0.6543999910354614\n",
      "Epoch 36, CIFAR-10 Batch 1:  Loss = 1.6855376958847046, acc = 0.7749999761581421, Valid acc = 0.6417999863624573\n",
      "Epoch 36, CIFAR-10 Batch 2:  Loss = 1.632767915725708, acc = 0.8500000238418579, Valid acc = 0.6470000147819519\n",
      "Epoch 36, CIFAR-10 Batch 3:  Loss = 1.5917186737060547, acc = 0.875, Valid acc = 0.6534000039100647\n",
      "Epoch 36, CIFAR-10 Batch 4:  Loss = 1.6732800006866455, acc = 0.800000011920929, Valid acc = 0.6531999707221985\n",
      "Epoch 36, CIFAR-10 Batch 5:  Loss = 1.5868796110153198, acc = 0.875, Valid acc = 0.6525999903678894\n",
      "Epoch 37, CIFAR-10 Batch 1:  Loss = 1.684207558631897, acc = 0.7749999761581421, Valid acc = 0.6485999822616577\n",
      "Epoch 37, CIFAR-10 Batch 2:  Loss = 1.6216742992401123, acc = 0.875, Valid acc = 0.6398000121116638\n",
      "Epoch 37, CIFAR-10 Batch 3:  Loss = 1.5924525260925293, acc = 0.8500000238418579, Valid acc = 0.6507999897003174\n",
      "Epoch 37, CIFAR-10 Batch 4:  Loss = 1.6826509237289429, acc = 0.7749999761581421, Valid acc = 0.656000018119812\n",
      "Epoch 37, CIFAR-10 Batch 5:  Loss = 1.5910351276397705, acc = 0.875, Valid acc = 0.6539999842643738\n",
      "Epoch 38, CIFAR-10 Batch 1:  Loss = 1.7138630151748657, acc = 0.7250000238418579, Valid acc = 0.644599974155426\n",
      "Epoch 38, CIFAR-10 Batch 2:  Loss = 1.6160835027694702, acc = 0.875, Valid acc = 0.6480000019073486\n",
      "Epoch 38, CIFAR-10 Batch 3:  Loss = 1.5655038356781006, acc = 0.8999999761581421, Valid acc = 0.6583999991416931\n",
      "Epoch 38, CIFAR-10 Batch 4:  Loss = 1.6131479740142822, acc = 0.8500000238418579, Valid acc = 0.6597999930381775\n",
      "Epoch 38, CIFAR-10 Batch 5:  Loss = 1.606637716293335, acc = 0.8500000238418579, Valid acc = 0.6549999713897705\n",
      "Epoch 39, CIFAR-10 Batch 1:  Loss = 1.6849792003631592, acc = 0.7749999761581421, Valid acc = 0.6528000235557556\n",
      "Epoch 39, CIFAR-10 Batch 2:  Loss = 1.631601095199585, acc = 0.8500000238418579, Valid acc = 0.6366000175476074\n",
      "Epoch 39, CIFAR-10 Batch 3:  Loss = 1.5914658308029175, acc = 0.875, Valid acc = 0.6488000154495239\n",
      "Epoch 39, CIFAR-10 Batch 4:  Loss = 1.6360584497451782, acc = 0.824999988079071, Valid acc = 0.6521999835968018\n",
      "Epoch 39, CIFAR-10 Batch 5:  Loss = 1.5872461795806885, acc = 0.875, Valid acc = 0.6607999801635742\n",
      "Epoch 40, CIFAR-10 Batch 1:  Loss = 1.6882221698760986, acc = 0.7749999761581421, Valid acc = 0.6628000140190125\n",
      "Epoch 40, CIFAR-10 Batch 2:  Loss = 1.6341545581817627, acc = 0.824999988079071, Valid acc = 0.6424000263214111\n",
      "Epoch 40, CIFAR-10 Batch 3:  Loss = 1.6012718677520752, acc = 0.8500000238418579, Valid acc = 0.6606000065803528\n",
      "Epoch 40, CIFAR-10 Batch 4:  Loss = 1.6331193447113037, acc = 0.8500000238418579, Valid acc = 0.6582000255584717\n",
      "Epoch 40, CIFAR-10 Batch 5:  Loss = 1.605200171470642, acc = 0.8500000238418579, Valid acc = 0.6570000052452087\n",
      "Epoch 41, CIFAR-10 Batch 1:  Loss = 1.688481092453003, acc = 0.7749999761581421, Valid acc = 0.6470000147819519\n",
      "Epoch 41, CIFAR-10 Batch 2:  Loss = 1.6418030261993408, acc = 0.824999988079071, Valid acc = 0.6583999991416931\n",
      "Epoch 41, CIFAR-10 Batch 3:  Loss = 1.5501153469085693, acc = 0.8999999761581421, Valid acc = 0.6639999747276306\n",
      "Epoch 41, CIFAR-10 Batch 4:  Loss = 1.6503067016601562, acc = 0.800000011920929, Valid acc = 0.652999997138977\n",
      "Epoch 41, CIFAR-10 Batch 5:  Loss = 1.578681230545044, acc = 0.875, Valid acc = 0.6593999862670898\n",
      "Epoch 42, CIFAR-10 Batch 1:  Loss = 1.6726810932159424, acc = 0.7749999761581421, Valid acc = 0.6553999781608582\n",
      "Epoch 42, CIFAR-10 Batch 2:  Loss = 1.6400893926620483, acc = 0.824999988079071, Valid acc = 0.6471999883651733\n",
      "Epoch 42, CIFAR-10 Batch 3:  Loss = 1.5620818138122559, acc = 0.8999999761581421, Valid acc = 0.6499999761581421\n",
      "Epoch 42, CIFAR-10 Batch 4:  Loss = 1.6493909358978271, acc = 0.800000011920929, Valid acc = 0.6610000133514404\n",
      "Epoch 42, CIFAR-10 Batch 5:  Loss = 1.624161958694458, acc = 0.8500000238418579, Valid acc = 0.6471999883651733\n",
      "Epoch 43, CIFAR-10 Batch 1:  Loss = 1.6567920446395874, acc = 0.800000011920929, Valid acc = 0.6481999754905701\n",
      "Epoch 43, CIFAR-10 Batch 2:  Loss = 1.667005181312561, acc = 0.7749999761581421, Valid acc = 0.6348000168800354\n",
      "Epoch 43, CIFAR-10 Batch 3:  Loss = 1.5619370937347412, acc = 0.8999999761581421, Valid acc = 0.6546000242233276\n",
      "Epoch 43, CIFAR-10 Batch 4:  Loss = 1.6205322742462158, acc = 0.8500000238418579, Valid acc = 0.6567999720573425\n",
      "Epoch 43, CIFAR-10 Batch 5:  Loss = 1.6112470626831055, acc = 0.8500000238418579, Valid acc = 0.6425999999046326\n",
      "Epoch 44, CIFAR-10 Batch 1:  Loss = 1.6604397296905518, acc = 0.800000011920929, Valid acc = 0.6492000222206116\n",
      "Epoch 44, CIFAR-10 Batch 2:  Loss = 1.6144424676895142, acc = 0.8500000238418579, Valid acc = 0.6620000004768372\n",
      "Epoch 44, CIFAR-10 Batch 3:  Loss = 1.5380146503448486, acc = 0.925000011920929, Valid acc = 0.6642000079154968\n",
      "Epoch 44, CIFAR-10 Batch 4:  Loss = 1.6379724740982056, acc = 0.800000011920929, Valid acc = 0.6607999801635742\n",
      "Epoch 44, CIFAR-10 Batch 5:  Loss = 1.5615615844726562, acc = 0.8999999761581421, Valid acc = 0.6606000065803528\n",
      "Epoch 45, CIFAR-10 Batch 1:  Loss = 1.6674137115478516, acc = 0.800000011920929, Valid acc = 0.65420001745224\n",
      "Epoch 45, CIFAR-10 Batch 2:  Loss = 1.675938367843628, acc = 0.800000011920929, Valid acc = 0.6535999774932861\n",
      "Epoch 45, CIFAR-10 Batch 3:  Loss = 1.5682545900344849, acc = 0.8999999761581421, Valid acc = 0.6543999910354614\n"
     ]
    },
    {
     "name": "stdout",
     "output_type": "stream",
     "text": [
      "Epoch 45, CIFAR-10 Batch 4:  Loss = 1.6363922357559204, acc = 0.8500000238418579, Valid acc = 0.6697999835014343\n",
      "Epoch 45, CIFAR-10 Batch 5:  Loss = 1.5828006267547607, acc = 0.875, Valid acc = 0.6610000133514404\n",
      "Epoch 46, CIFAR-10 Batch 1:  Loss = 1.6590734720230103, acc = 0.800000011920929, Valid acc = 0.6632000207901001\n",
      "Epoch 46, CIFAR-10 Batch 2:  Loss = 1.6388740539550781, acc = 0.824999988079071, Valid acc = 0.6621999740600586\n",
      "Epoch 46, CIFAR-10 Batch 3:  Loss = 1.571567416191101, acc = 0.8999999761581421, Valid acc = 0.6628000140190125\n",
      "Epoch 46, CIFAR-10 Batch 4:  Loss = 1.6379635334014893, acc = 0.824999988079071, Valid acc = 0.6575999855995178\n",
      "Epoch 46, CIFAR-10 Batch 5:  Loss = 1.5603911876678467, acc = 0.8999999761581421, Valid acc = 0.6614000201225281\n",
      "Epoch 47, CIFAR-10 Batch 1:  Loss = 1.6759036779403687, acc = 0.7749999761581421, Valid acc = 0.6650000214576721\n",
      "Epoch 47, CIFAR-10 Batch 2:  Loss = 1.6156734228134155, acc = 0.8500000238418579, Valid acc = 0.6628000140190125\n",
      "Epoch 47, CIFAR-10 Batch 3:  Loss = 1.5599111318588257, acc = 0.8999999761581421, Valid acc = 0.6597999930381775\n",
      "Epoch 47, CIFAR-10 Batch 4:  Loss = 1.6139543056488037, acc = 0.8500000238418579, Valid acc = 0.6621999740600586\n",
      "Epoch 47, CIFAR-10 Batch 5:  Loss = 1.559491515159607, acc = 0.8999999761581421, Valid acc = 0.6728000044822693\n",
      "Epoch 48, CIFAR-10 Batch 1:  Loss = 1.706703543663025, acc = 0.75, Valid acc = 0.6431999802589417\n",
      "Epoch 48, CIFAR-10 Batch 2:  Loss = 1.6447654962539673, acc = 0.824999988079071, Valid acc = 0.6425999999046326\n",
      "Epoch 48, CIFAR-10 Batch 3:  Loss = 1.5700805187225342, acc = 0.8999999761581421, Valid acc = 0.6710000038146973\n",
      "Epoch 48, CIFAR-10 Batch 4:  Loss = 1.6103384494781494, acc = 0.8500000238418579, Valid acc = 0.6600000262260437\n",
      "Epoch 48, CIFAR-10 Batch 5:  Loss = 1.5412678718566895, acc = 0.925000011920929, Valid acc = 0.6647999882698059\n",
      "Epoch 49, CIFAR-10 Batch 1:  Loss = 1.689501166343689, acc = 0.7749999761581421, Valid acc = 0.6682000160217285\n",
      "Epoch 49, CIFAR-10 Batch 2:  Loss = 1.6236236095428467, acc = 0.8500000238418579, Valid acc = 0.6628000140190125\n",
      "Epoch 49, CIFAR-10 Batch 3:  Loss = 1.536329746246338, acc = 0.925000011920929, Valid acc = 0.6657999753952026\n",
      "Epoch 49, CIFAR-10 Batch 4:  Loss = 1.6343400478363037, acc = 0.824999988079071, Valid acc = 0.6633999943733215\n",
      "Epoch 49, CIFAR-10 Batch 5:  Loss = 1.5628337860107422, acc = 0.8999999761581421, Valid acc = 0.6669999957084656\n",
      "Epoch 50, CIFAR-10 Batch 1:  Loss = 1.715303659439087, acc = 0.75, Valid acc = 0.6665999889373779\n",
      "Epoch 50, CIFAR-10 Batch 2:  Loss = 1.5991319417953491, acc = 0.875, Valid acc = 0.6697999835014343\n",
      "Epoch 50, CIFAR-10 Batch 3:  Loss = 1.5358963012695312, acc = 0.925000011920929, Valid acc = 0.6754000186920166\n",
      "Epoch 50, CIFAR-10 Batch 4:  Loss = 1.6012471914291382, acc = 0.8500000238418579, Valid acc = 0.6588000059127808\n",
      "Epoch 50, CIFAR-10 Batch 5:  Loss = 1.5217636823654175, acc = 0.949999988079071, Valid acc = 0.6638000011444092\n"
     ]
    }
   ],
   "source": [
    "\"\"\"\n",
    "DON'T MODIFY ANYTHING IN THIS CELL\n",
    "\"\"\"\n",
    "save_model_path = './image_classification'\n",
    "\n",
    "print('Training...')\n",
    "with tf.Session() as sess:\n",
    "    # Initializing the variables\n",
    "    sess.run(tf.global_variables_initializer())\n",
    "    \n",
    "    # Training cycle\n",
    "    for epoch in range(epochs):\n",
    "        # Loop over all batches\n",
    "        n_batches = 5\n",
    "        for batch_i in range(1, n_batches + 1):\n",
    "            for batch_features, batch_labels in helper.load_preprocess_training_batch(batch_i, batch_size):\n",
    "                train_neural_network(sess, optimizer, keep_probability, batch_features, batch_labels)\n",
    "            print('Epoch {:>2}, CIFAR-10 Batch {}:  '.format(epoch + 1, batch_i), end='')\n",
    "            print_stats(sess, batch_features, batch_labels, cost, accuracy)\n",
    "            \n",
    "    # Save Model\n",
    "    saver = tf.train.Saver()\n",
    "    save_path = saver.save(sess, save_model_path)"
   ]
  },
  {
   "cell_type": "markdown",
   "metadata": {},
   "source": [
    "# Checkpoint\n",
    "The model has been saved to disk.\n",
    "## Test Model\n",
    "Test your model against the test dataset.  This will be your final accuracy. You should have an accuracy greater than 50%. If you don't, keep tweaking the model architecture and parameters."
   ]
  },
  {
   "cell_type": "code",
   "execution_count": 19,
   "metadata": {},
   "outputs": [
    {
     "name": "stdout",
     "output_type": "stream",
     "text": [
      "INFO:tensorflow:Restoring parameters from ./image_classification\n",
      "Testing Accuracy: 0.6552734375\n",
      "\n"
     ]
    },
    {
     "data": {
      "image/png": "[encoded data removed]",
      "text/plain": [
       "<matplotlib.figure.Figure at 0x16ed4f8b160>"
      ]
     },
     "metadata": {
      "image/png": {
       "height": 319,
       "width": 355
      }
     },
     "output_type": "display_data"
    }
   ],
   "source": [
    "\"\"\"\n",
    "DON'T MODIFY ANYTHING IN THIS CELL\n",
    "\"\"\"\n",
    "%matplotlib inline\n",
    "%config InlineBackend.figure_format = 'retina'\n",
    "\n",
    "import tensorflow as tf\n",
    "import pickle\n",
    "import helper\n",
    "import random\n",
    "\n",
    "# Set batch size if not already set\n",
    "try:\n",
    "    if batch_size:\n",
    "        pass\n",
    "except NameError:\n",
    "    batch_size = 64\n",
    "\n",
    "save_model_path = './image_classification'\n",
    "n_samples = 4\n",
    "top_n_predictions = 3\n",
    "\n",
    "def test_model():\n",
    "    \"\"\"\n",
    "    Test the saved model against the test dataset\n",
    "    \"\"\"\n",
    "\n",
    "    test_features, test_labels = pickle.load(open('preprocess_test.p', mode='rb'))\n",
    "    loaded_graph = tf.Graph()\n",
    "\n",
    "    with tf.Session(graph=loaded_graph) as sess:\n",
    "        # Load model\n",
    "        loader = tf.train.import_meta_graph(save_model_path + '.meta')\n",
    "        loader.restore(sess, save_model_path)\n",
    "\n",
    "        # Get Tensors from loaded model\n",
    "        loaded_x = loaded_graph.get_tensor_by_name('x:0')\n",
    "        loaded_y = loaded_graph.get_tensor_by_name('y:0')\n",
    "        loaded_keep_prob = loaded_graph.get_tensor_by_name('keep_prob:0')\n",
    "        loaded_logits = loaded_graph.get_tensor_by_name('logits:0')\n",
    "        loaded_acc = loaded_graph.get_tensor_by_name('accuracy:0')\n",
    "        \n",
    "        # Get accuracy in batches for memory limitations\n",
    "        test_batch_acc_total = 0\n",
    "        test_batch_count = 0\n",
    "        \n",
    "        for test_feature_batch, test_label_batch in helper.batch_features_labels(test_features, test_labels, batch_size):\n",
    "            test_batch_acc_total += sess.run(\n",
    "                loaded_acc,\n",
    "                feed_dict={loaded_x: test_feature_batch, loaded_y: test_label_batch, loaded_keep_prob: 1.0})\n",
    "            test_batch_count += 1\n",
    "\n",
    "        print('Testing Accuracy: {}\\n'.format(test_batch_acc_total/test_batch_count))\n",
    "\n",
    "        # Print Random Samples\n",
    "        random_test_features, random_test_labels = tuple(zip(*random.sample(list(zip(test_features, test_labels)), n_samples)))\n",
    "        random_test_predictions = sess.run(\n",
    "            tf.nn.top_k(tf.nn.softmax(loaded_logits), top_n_predictions),\n",
    "            feed_dict={loaded_x: random_test_features, loaded_y: random_test_labels, loaded_keep_prob: 1.0})\n",
    "        helper.display_image_predictions(random_test_features, random_test_labels, random_test_predictions)\n",
    "\n",
    "\n",
    "test_model()"
   ]
  },
  {
   "cell_type": "markdown",
   "metadata": {},
   "source": [
    "## Why 50-80% Accuracy?\n",
    "You might be wondering why you can't get an accuracy any higher. First things first, 50% isn't bad for a simple CNN.  Pure guessing would get you 10% accuracy. However, you might notice people are getting scores [well above 80%](http://rodrigob.github.io/are_we_there_yet/build/classification_datasets_results.html#43494641522d3130).  That's because we haven't taught you all there is to know about neural networks. We still need to cover a few more techniques.\n",
    "## Submitting This Project\n",
    "When submitting this project, make sure to run all the cells before saving the notebook.  Save the notebook file as \"dlnd_image_classification.ipynb\" and save it as a HTML file under \"File\" -> \"Download as\".  Include the \"helper.py\" and \"problem_unittests.py\" files in your submission."
   ]
  }
 ],
 "metadata": {
  "kernelspec": {
   "display_name": "Python 3",
   "language": "python",
   "name": "python3"
  },
  "language_info": {
   "codemirror_mode": {
    "name": "ipython",
    "version": 3
   },
   "file_extension": ".py",
   "mimetype": "text/x-python",
   "name": "python",
   "nbconvert_exporter": "python",
   "pygments_lexer": "ipython3",
   "version": "3.6.3"
  }
 },
 "nbformat": 4,
 "nbformat_minor": 1
}
